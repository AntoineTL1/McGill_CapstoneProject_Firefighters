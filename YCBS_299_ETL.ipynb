{
  "nbformat": 4,
  "nbformat_minor": 0,
  "metadata": {
    "colab": {
      "name": "YCBS-299 ETL.ipynb",
      "provenance": [],
      "collapsed_sections": []
    },
    "kernelspec": {
      "name": "python3",
      "display_name": "Python 3"
    }
  },
  "cells": [
    {
      "cell_type": "markdown",
      "metadata": {
        "id": "ml5sjSASYuCt",
        "colab_type": "text"
      },
      "source": [
        "# EDA pour identifer la structure des donnees Open-Source de MTL"
      ]
    },
    {
      "cell_type": "code",
      "metadata": {
        "id": "CcLB1VTNq_p6",
        "colab_type": "code",
        "colab": {
          "base_uri": "https://localhost:8080/",
          "height": 472
        },
        "outputId": "d4ab8ceb-08df-455e-a4e5-a31bd337e6de"
      },
      "source": [
        "!pip install geopandas"
      ],
      "execution_count": 1,
      "outputs": [
        {
          "output_type": "stream",
          "text": [
            "Collecting geopandas\n",
            "\u001b[?25l  Downloading https://files.pythonhosted.org/packages/f7/a4/e66aafbefcbb717813bf3a355c8c4fc3ed04ea1dd7feb2920f2f4f868921/geopandas-0.8.1-py2.py3-none-any.whl (962kB)\n",
            "\u001b[K     |████████████████████████████████| 972kB 2.8MB/s \n",
            "\u001b[?25hCollecting fiona\n",
            "\u001b[?25l  Downloading https://files.pythonhosted.org/packages/ec/20/4e63bc5c6e62df889297b382c3ccd4a7a488b00946aaaf81a118158c6f09/Fiona-1.8.13.post1-cp36-cp36m-manylinux1_x86_64.whl (14.7MB)\n",
            "\u001b[K     |████████████████████████████████| 14.7MB 298kB/s \n",
            "\u001b[?25hCollecting pyproj>=2.2.0\n",
            "\u001b[?25l  Downloading https://files.pythonhosted.org/packages/e5/c3/071e080230ac4b6c64f1a2e2f9161c9737a2bc7b683d2c90b024825000c0/pyproj-2.6.1.post1-cp36-cp36m-manylinux2010_x86_64.whl (10.9MB)\n",
            "\u001b[K     |████████████████████████████████| 10.9MB 45.3MB/s \n",
            "\u001b[?25hRequirement already satisfied: pandas>=0.23.0 in /usr/local/lib/python3.6/dist-packages (from geopandas) (1.0.5)\n",
            "Requirement already satisfied: shapely in /usr/local/lib/python3.6/dist-packages (from geopandas) (1.7.0)\n",
            "Requirement already satisfied: attrs>=17 in /usr/local/lib/python3.6/dist-packages (from fiona->geopandas) (19.3.0)\n",
            "Collecting cligj>=0.5\n",
            "  Downloading https://files.pythonhosted.org/packages/e4/be/30a58b4b0733850280d01f8bd132591b4668ed5c7046761098d665ac2174/cligj-0.5.0-py3-none-any.whl\n",
            "Requirement already satisfied: click<8,>=4.0 in /usr/local/lib/python3.6/dist-packages (from fiona->geopandas) (7.1.2)\n",
            "Collecting munch\n",
            "  Downloading https://files.pythonhosted.org/packages/cc/ab/85d8da5c9a45e072301beb37ad7f833cd344e04c817d97e0cc75681d248f/munch-2.5.0-py2.py3-none-any.whl\n",
            "Collecting click-plugins>=1.0\n",
            "  Downloading https://files.pythonhosted.org/packages/e9/da/824b92d9942f4e472702488857914bdd50f73021efea15b4cad9aca8ecef/click_plugins-1.1.1-py2.py3-none-any.whl\n",
            "Requirement already satisfied: six>=1.7 in /usr/local/lib/python3.6/dist-packages (from fiona->geopandas) (1.15.0)\n",
            "Requirement already satisfied: numpy>=1.13.3 in /usr/local/lib/python3.6/dist-packages (from pandas>=0.23.0->geopandas) (1.18.5)\n",
            "Requirement already satisfied: python-dateutil>=2.6.1 in /usr/local/lib/python3.6/dist-packages (from pandas>=0.23.0->geopandas) (2.8.1)\n",
            "Requirement already satisfied: pytz>=2017.2 in /usr/local/lib/python3.6/dist-packages (from pandas>=0.23.0->geopandas) (2018.9)\n",
            "Installing collected packages: cligj, munch, click-plugins, fiona, pyproj, geopandas\n",
            "Successfully installed click-plugins-1.1.1 cligj-0.5.0 fiona-1.8.13.post1 geopandas-0.8.1 munch-2.5.0 pyproj-2.6.1.post1\n"
          ],
          "name": "stdout"
        }
      ]
    },
    {
      "cell_type": "code",
      "metadata": {
        "id": "Q5e1bJgsY3J4",
        "colab_type": "code",
        "colab": {}
      },
      "source": [
        "import pandas as pd\n",
        "import io\n",
        "import os\n",
        "from google.colab import drive\n",
        "import geopandas as gpd\n",
        "from shapely.geometry import Point, Polygon\n",
        "import numpy as np"
      ],
      "execution_count": 2,
      "outputs": []
    },
    {
      "cell_type": "markdown",
      "metadata": {
        "id": "DviFsgQvZDu7",
        "colab_type": "text"
      },
      "source": [
        "### 1) Connection to the drive"
      ]
    },
    {
      "cell_type": "code",
      "metadata": {
        "id": "9A1c-qNZY4jy",
        "colab_type": "code",
        "colab": {
          "base_uri": "https://localhost:8080/",
          "height": 128
        },
        "outputId": "e19f6498-a257-4f13-b8dd-c38644e29492"
      },
      "source": [
        "drive.mount('/content/drive', force_remount=True)"
      ],
      "execution_count": 3,
      "outputs": [
        {
          "output_type": "stream",
          "text": [
            "Go to this URL in a browser: https://accounts.google.com/o/oauth2/auth?client_id=947318989803-6bn6qk8qdgf4n4g3pfee6491hc0brc4i.apps.googleusercontent.com&redirect_uri=urn%3aietf%3awg%3aoauth%3a2.0%3aoob&scope=email%20https%3a%2f%2fwww.googleapis.com%2fauth%2fdocs.test%20https%3a%2f%2fwww.googleapis.com%2fauth%2fdrive%20https%3a%2f%2fwww.googleapis.com%2fauth%2fdrive.photos.readonly%20https%3a%2f%2fwww.googleapis.com%2fauth%2fpeopleapi.readonly&response_type=code\n",
            "\n",
            "Enter your authorization code:\n",
            "··········\n",
            "Mounted at /content/drive\n"
          ],
          "name": "stdout"
        }
      ]
    },
    {
      "cell_type": "code",
      "metadata": {
        "id": "VGW-P4LTq2i2",
        "colab_type": "code",
        "colab": {}
      },
      "source": [
        "# Read data from Open data Montreal\n",
        "spatial_boroughs = gpd.read_file('/content/drive/My Drive/Data/YCBS-299/quartiers-socio.geojson', encoding='utf-8')\n",
        "spatial_casernes = gpd.read_file('/content/drive/My Drive/Data/YCBS-299/territoires-administratifs-casernes.geojson', encoding='utf-8')"
      ],
      "execution_count": 4,
      "outputs": []
    },
    {
      "cell_type": "markdown",
      "metadata": {
        "id": "wFw1fkne8EYM",
        "colab_type": "text"
      },
      "source": [
        "### 2) Create a table with all days, shifts and stations"
      ]
    },
    {
      "cell_type": "code",
      "metadata": {
        "id": "c0MtYX0hhtd8",
        "colab_type": "code",
        "colab": {}
      },
      "source": [
        "# Load datasets\n",
        "interventions_15 = pd.read_csv('/content/drive/My Drive/Data/YCBS-299/donneesouvertes-interventions-sim.csv')\n",
        "list_casernes = interventions_15['CASERNE'].unique()"
      ],
      "execution_count": 5,
      "outputs": []
    },
    {
      "cell_type": "code",
      "metadata": {
        "id": "gTeS3bZR8E_I",
        "colab_type": "code",
        "colab": {}
      },
      "source": [
        "def create_date_table(start='2005-01-01', end='2020-07-10'):\n",
        "  df = pd.DataFrame({\"Date\": pd.date_range(start, end)})\n",
        "  return df "
      ],
      "execution_count": 6,
      "outputs": []
    },
    {
      "cell_type": "code",
      "metadata": {
        "id": "5kSHWl2KvgtS",
        "colab_type": "code",
        "colab": {}
      },
      "source": [
        "# Create date table\n",
        "shifts = [1,2,3]\n",
        "\n",
        "appended_data = []\n",
        "for i in list_casernes:\n",
        "  for j in shifts:\n",
        "    dates = create_date_table(start='2005-01-01', end='2020-06-30')\n",
        "    dates['Date'] = dates['Date'].dt.strftime('%m/%d/%Y')\n",
        "    dates['Station'] = i\n",
        "    dates['Shift'] = j\n",
        "    appended_data.append(dates)\n",
        "\n",
        "# see pd.concat documentation for more info\n",
        "dates = pd.concat(appended_data)"
      ],
      "execution_count": null,
      "outputs": []
    },
    {
      "cell_type": "code",
      "metadata": {
        "id": "wLmq6v4ZvJua",
        "colab_type": "code",
        "colab": {
          "base_uri": "https://localhost:8080/",
          "height": 198
        },
        "outputId": "f341339b-2e8e-43ec-f6aa-a1085da32e5f"
      },
      "source": [
        "dates.head()"
      ],
      "execution_count": null,
      "outputs": [
        {
          "output_type": "execute_result",
          "data": {
            "text/html": [
              "<div>\n",
              "<style scoped>\n",
              "    .dataframe tbody tr th:only-of-type {\n",
              "        vertical-align: middle;\n",
              "    }\n",
              "\n",
              "    .dataframe tbody tr th {\n",
              "        vertical-align: top;\n",
              "    }\n",
              "\n",
              "    .dataframe thead th {\n",
              "        text-align: right;\n",
              "    }\n",
              "</style>\n",
              "<table border=\"1\" class=\"dataframe\">\n",
              "  <thead>\n",
              "    <tr style=\"text-align: right;\">\n",
              "      <th></th>\n",
              "      <th>Date</th>\n",
              "      <th>Station</th>\n",
              "      <th>Shift</th>\n",
              "    </tr>\n",
              "  </thead>\n",
              "  <tbody>\n",
              "    <tr>\n",
              "      <th>0</th>\n",
              "      <td>01/01/2005</td>\n",
              "      <td>77</td>\n",
              "      <td>1</td>\n",
              "    </tr>\n",
              "    <tr>\n",
              "      <th>1</th>\n",
              "      <td>01/02/2005</td>\n",
              "      <td>77</td>\n",
              "      <td>1</td>\n",
              "    </tr>\n",
              "    <tr>\n",
              "      <th>2</th>\n",
              "      <td>01/03/2005</td>\n",
              "      <td>77</td>\n",
              "      <td>1</td>\n",
              "    </tr>\n",
              "    <tr>\n",
              "      <th>3</th>\n",
              "      <td>01/04/2005</td>\n",
              "      <td>77</td>\n",
              "      <td>1</td>\n",
              "    </tr>\n",
              "    <tr>\n",
              "      <th>4</th>\n",
              "      <td>01/05/2005</td>\n",
              "      <td>77</td>\n",
              "      <td>1</td>\n",
              "    </tr>\n",
              "  </tbody>\n",
              "</table>\n",
              "</div>"
            ],
            "text/plain": [
              "         Date  Station  Shift\n",
              "0  01/01/2005       77      1\n",
              "1  01/02/2005       77      1\n",
              "2  01/03/2005       77      1\n",
              "3  01/04/2005       77      1\n",
              "4  01/05/2005       77      1"
            ]
          },
          "metadata": {
            "tags": []
          },
          "execution_count": 10
        }
      ]
    },
    {
      "cell_type": "code",
      "metadata": {
        "id": "zK1ahB8u7uwB",
        "colab_type": "code",
        "colab": {}
      },
      "source": [
        "# Print to csv\n",
        "dates.to_csv('/content/drive/My Drive/Data/YCBS-299/time_space_frame.csv', index=False)"
      ],
      "execution_count": null,
      "outputs": []
    },
    {
      "cell_type": "markdown",
      "metadata": {
        "id": "1Q-QtNQw7pD6",
        "colab_type": "text"
      },
      "source": [
        "### 3) Table for Social Housing Data"
      ]
    },
    {
      "cell_type": "code",
      "metadata": {
        "id": "USorV8fk7gjL",
        "colab_type": "code",
        "colab": {}
      },
      "source": [
        "social_housing =  pd.read_csv('/content/drive/My Drive/Data/YCBS-299/logsoc_donneesouvertes_20191231.csv', encoding='utf-8')"
      ],
      "execution_count": 22,
      "outputs": []
    },
    {
      "cell_type": "code",
      "metadata": {
        "id": "BEiTOI3x7ouM",
        "colab_type": "code",
        "colab": {
          "base_uri": "https://localhost:8080/",
          "height": 191
        },
        "outputId": "b46f1c55-01d8-4e48-8656-4825b9835d75"
      },
      "source": [
        "social_housing = social_housing[['nom_projet','an_orig' ,'nb_log', 'projettype', 'longitude', 'latitude']]\n",
        "social_housing.head()"
      ],
      "execution_count": 31,
      "outputs": [
        {
          "output_type": "execute_result",
          "data": {
            "text/html": [
              "<div>\n",
              "<style scoped>\n",
              "    .dataframe tbody tr th:only-of-type {\n",
              "        vertical-align: middle;\n",
              "    }\n",
              "\n",
              "    .dataframe tbody tr th {\n",
              "        vertical-align: top;\n",
              "    }\n",
              "\n",
              "    .dataframe thead th {\n",
              "        text-align: right;\n",
              "    }\n",
              "</style>\n",
              "<table border=\"1\" class=\"dataframe\">\n",
              "  <thead>\n",
              "    <tr style=\"text-align: right;\">\n",
              "      <th></th>\n",
              "      <th>nom_projet</th>\n",
              "      <th>an_orig</th>\n",
              "      <th>nb_log</th>\n",
              "      <th>projettype</th>\n",
              "      <th>longitude</th>\n",
              "      <th>latitude</th>\n",
              "    </tr>\n",
              "  </thead>\n",
              "  <tbody>\n",
              "    <tr>\n",
              "      <th>0</th>\n",
              "      <td>Saint-Sulpice</td>\n",
              "      <td>1971.0</td>\n",
              "      <td>150</td>\n",
              "      <td>HLM</td>\n",
              "      <td>-73.645933</td>\n",
              "      <td>45.556394</td>\n",
              "    </tr>\n",
              "    <tr>\n",
              "      <th>1</th>\n",
              "      <td>Adrien Trudeau</td>\n",
              "      <td>1994.0</td>\n",
              "      <td>32</td>\n",
              "      <td>HLM</td>\n",
              "      <td>-73.672437</td>\n",
              "      <td>45.445957</td>\n",
              "    </tr>\n",
              "    <tr>\n",
              "      <th>2</th>\n",
              "      <td>Montmorency</td>\n",
              "      <td>1978.0</td>\n",
              "      <td>80</td>\n",
              "      <td>HLM</td>\n",
              "      <td>-73.560734</td>\n",
              "      <td>45.486068</td>\n",
              "    </tr>\n",
              "    <tr>\n",
              "      <th>3</th>\n",
              "      <td>Place Normandie</td>\n",
              "      <td>1972.0</td>\n",
              "      <td>168</td>\n",
              "      <td>HLM</td>\n",
              "      <td>-73.623530</td>\n",
              "      <td>45.623784</td>\n",
              "    </tr>\n",
              "    <tr>\n",
              "      <th>4</th>\n",
              "      <td>Étienne-Desmarteaux</td>\n",
              "      <td>1978.0</td>\n",
              "      <td>117</td>\n",
              "      <td>HLM</td>\n",
              "      <td>-73.580121</td>\n",
              "      <td>45.558369</td>\n",
              "    </tr>\n",
              "  </tbody>\n",
              "</table>\n",
              "</div>"
            ],
            "text/plain": [
              "            nom_projet  an_orig  nb_log projettype  longitude   latitude\n",
              "0        Saint-Sulpice   1971.0     150        HLM -73.645933  45.556394\n",
              "1       Adrien Trudeau   1994.0      32        HLM -73.672437  45.445957\n",
              "2          Montmorency   1978.0      80        HLM -73.560734  45.486068\n",
              "3      Place Normandie   1972.0     168        HLM -73.623530  45.623784\n",
              "4  Étienne-Desmarteaux   1978.0     117        HLM -73.580121  45.558369"
            ]
          },
          "metadata": {
            "tags": []
          },
          "execution_count": 31
        }
      ]
    },
    {
      "cell_type": "markdown",
      "metadata": {
        "id": "vXJTY5GyuPxf",
        "colab_type": "text"
      },
      "source": [
        "Faire une table annees 2005 a 2020"
      ]
    },
    {
      "cell_type": "code",
      "metadata": {
        "id": "Hck1fOXRuPaE",
        "colab_type": "code",
        "colab": {
          "base_uri": "https://localhost:8080/",
          "height": 191
        },
        "outputId": "3419458b-f800-458e-d4dc-d8adaddc2543"
      },
      "source": [
        "appended_data = []\n",
        "for years in range(2005,2021):\n",
        "    year = pd.DataFrame(np.array([years]),columns=['Year'])\n",
        "    appended_data.append(year)\n",
        "\n",
        "# see pd.concat documentation for more info\n",
        "year_frame = pd.concat(appended_data)\n",
        "\n",
        "# see pd.concat documentation for more info\n",
        "year_frame = pd.concat(appended_data)\n"
      ],
      "execution_count": 41,
      "outputs": [
        {
          "output_type": "execute_result",
          "data": {
            "text/html": [
              "<div>\n",
              "<style scoped>\n",
              "    .dataframe tbody tr th:only-of-type {\n",
              "        vertical-align: middle;\n",
              "    }\n",
              "\n",
              "    .dataframe tbody tr th {\n",
              "        vertical-align: top;\n",
              "    }\n",
              "\n",
              "    .dataframe thead th {\n",
              "        text-align: right;\n",
              "    }\n",
              "</style>\n",
              "<table border=\"1\" class=\"dataframe\">\n",
              "  <thead>\n",
              "    <tr style=\"text-align: right;\">\n",
              "      <th></th>\n",
              "      <th>Year</th>\n",
              "    </tr>\n",
              "  </thead>\n",
              "  <tbody>\n",
              "    <tr>\n",
              "      <th>0</th>\n",
              "      <td>2016</td>\n",
              "    </tr>\n",
              "    <tr>\n",
              "      <th>0</th>\n",
              "      <td>2017</td>\n",
              "    </tr>\n",
              "    <tr>\n",
              "      <th>0</th>\n",
              "      <td>2018</td>\n",
              "    </tr>\n",
              "    <tr>\n",
              "      <th>0</th>\n",
              "      <td>2019</td>\n",
              "    </tr>\n",
              "    <tr>\n",
              "      <th>0</th>\n",
              "      <td>2020</td>\n",
              "    </tr>\n",
              "  </tbody>\n",
              "</table>\n",
              "</div>"
            ],
            "text/plain": [
              "   Year\n",
              "0  2016\n",
              "0  2017\n",
              "0  2018\n",
              "0  2019\n",
              "0  2020"
            ]
          },
          "metadata": {
            "tags": []
          },
          "execution_count": 41
        }
      ]
    },
    {
      "cell_type": "code",
      "metadata": {
        "id": "rB9pZdNrv-fa",
        "colab_type": "code",
        "colab": {
          "base_uri": "https://localhost:8080/",
          "height": 191
        },
        "outputId": "5aea8493-0f02-4aba-e29f-92c51dd5ca52"
      },
      "source": [
        "import sqlite3\n",
        "qry = '''\n",
        "    select  \n",
        "        year_frame.Year Year,\n",
        "        social_housing.nom_projet nom_projet,\n",
        "        social_housing.an_orig an_orig,\n",
        "        social_housing.nb_log nb_log,\n",
        "        social_housing.projettype projettype,\n",
        "        social_housing.longitude longitude,\n",
        "        social_housing.latitude latitude\n",
        "    from\n",
        "        year_frame left join social_housing on\n",
        "        social_housing.an_orig <= year_frame.Year\n",
        "    '''\n",
        "\n",
        "#Make the db in memory\n",
        "conn = sqlite3.connect(':memory:')\n",
        "\n",
        "#write the tables\n",
        "year_frame.to_sql('year_frame', conn, index=False)\n",
        "social_housing.to_sql('social_housing', conn, index=False)\n",
        "social_housing_yr = pd.read_sql_query(qry, conn)\n",
        "social_housing_yr.head()"
      ],
      "execution_count": 44,
      "outputs": [
        {
          "output_type": "execute_result",
          "data": {
            "text/html": [
              "<div>\n",
              "<style scoped>\n",
              "    .dataframe tbody tr th:only-of-type {\n",
              "        vertical-align: middle;\n",
              "    }\n",
              "\n",
              "    .dataframe tbody tr th {\n",
              "        vertical-align: top;\n",
              "    }\n",
              "\n",
              "    .dataframe thead th {\n",
              "        text-align: right;\n",
              "    }\n",
              "</style>\n",
              "<table border=\"1\" class=\"dataframe\">\n",
              "  <thead>\n",
              "    <tr style=\"text-align: right;\">\n",
              "      <th></th>\n",
              "      <th>Year</th>\n",
              "      <th>nom_projet</th>\n",
              "      <th>an_orig</th>\n",
              "      <th>nb_log</th>\n",
              "      <th>projettype</th>\n",
              "      <th>longitude</th>\n",
              "      <th>latitude</th>\n",
              "    </tr>\n",
              "  </thead>\n",
              "  <tbody>\n",
              "    <tr>\n",
              "      <th>0</th>\n",
              "      <td>2005</td>\n",
              "      <td>Saint-Sulpice</td>\n",
              "      <td>1971.0</td>\n",
              "      <td>150</td>\n",
              "      <td>HLM</td>\n",
              "      <td>-73.645933</td>\n",
              "      <td>45.556394</td>\n",
              "    </tr>\n",
              "    <tr>\n",
              "      <th>1</th>\n",
              "      <td>2005</td>\n",
              "      <td>Adrien Trudeau</td>\n",
              "      <td>1994.0</td>\n",
              "      <td>32</td>\n",
              "      <td>HLM</td>\n",
              "      <td>-73.672437</td>\n",
              "      <td>45.445957</td>\n",
              "    </tr>\n",
              "    <tr>\n",
              "      <th>2</th>\n",
              "      <td>2005</td>\n",
              "      <td>Montmorency</td>\n",
              "      <td>1978.0</td>\n",
              "      <td>80</td>\n",
              "      <td>HLM</td>\n",
              "      <td>-73.560734</td>\n",
              "      <td>45.486068</td>\n",
              "    </tr>\n",
              "    <tr>\n",
              "      <th>3</th>\n",
              "      <td>2005</td>\n",
              "      <td>Place Normandie</td>\n",
              "      <td>1972.0</td>\n",
              "      <td>168</td>\n",
              "      <td>HLM</td>\n",
              "      <td>-73.623530</td>\n",
              "      <td>45.623784</td>\n",
              "    </tr>\n",
              "    <tr>\n",
              "      <th>4</th>\n",
              "      <td>2005</td>\n",
              "      <td>Étienne-Desmarteaux</td>\n",
              "      <td>1978.0</td>\n",
              "      <td>117</td>\n",
              "      <td>HLM</td>\n",
              "      <td>-73.580121</td>\n",
              "      <td>45.558369</td>\n",
              "    </tr>\n",
              "  </tbody>\n",
              "</table>\n",
              "</div>"
            ],
            "text/plain": [
              "   Year           nom_projet  an_orig  nb_log projettype  longitude   latitude\n",
              "0  2005        Saint-Sulpice   1971.0     150        HLM -73.645933  45.556394\n",
              "1  2005       Adrien Trudeau   1994.0      32        HLM -73.672437  45.445957\n",
              "2  2005          Montmorency   1978.0      80        HLM -73.560734  45.486068\n",
              "3  2005      Place Normandie   1972.0     168        HLM -73.623530  45.623784\n",
              "4  2005  Étienne-Desmarteaux   1978.0     117        HLM -73.580121  45.558369"
            ]
          },
          "metadata": {
            "tags": []
          },
          "execution_count": 44
        }
      ]
    },
    {
      "cell_type": "code",
      "metadata": {
        "id": "Fyzlry3G0798",
        "colab_type": "code",
        "colab": {}
      },
      "source": [
        "list_casernes = [None] * len(social_housing_yr)\n",
        "list_boroughs = [None] * len(social_housing_yr)\n",
        "\n",
        "for house in range(0, len(social_housing_yr)-1):\n",
        "\n",
        "  longitude = social_housing_yr['longitude'].iloc[house]\n",
        "  latitude  = social_housing_yr['latitude'].iloc[house]\n",
        "  p = Point(longitude, latitude)\n",
        "\n",
        "  for caserne in range(0, len(spatial_casernes)-1):\n",
        "    if p.within(spatial_casernes['geometry'].iloc[caserne]):\n",
        "      list_casernes[house] = spatial_casernes['NOM_CAS_AD'].iloc[caserne]\n",
        "\n",
        "  for borough in range(0, len(spatial_boroughs)-1):\n",
        "    if p.within(spatial_boroughs['geometry'].iloc[borough]):\n",
        "      list_boroughs[house] = spatial_boroughs['Arrondissement'].iloc[borough]"
      ],
      "execution_count": 48,
      "outputs": []
    },
    {
      "cell_type": "code",
      "metadata": {
        "id": "zxwKKRgw81Hh",
        "colab_type": "code",
        "colab": {
          "base_uri": "https://localhost:8080/",
          "height": 191
        },
        "outputId": "55bf9d57-62ff-44cb-dc2c-6c37fc74ee25"
      },
      "source": [
        "key_caserne  = pd.DataFrame(list_casernes, columns = [\"Station\"])\n",
        "key_boroughs = pd.DataFrame(list_boroughs, columns = [\"Borough\"])\n",
        "\n",
        "keys = key_caserne.join(key_boroughs)\n",
        "keys.head()"
      ],
      "execution_count": 49,
      "outputs": [
        {
          "output_type": "execute_result",
          "data": {
            "text/html": [
              "<div>\n",
              "<style scoped>\n",
              "    .dataframe tbody tr th:only-of-type {\n",
              "        vertical-align: middle;\n",
              "    }\n",
              "\n",
              "    .dataframe tbody tr th {\n",
              "        vertical-align: top;\n",
              "    }\n",
              "\n",
              "    .dataframe thead th {\n",
              "        text-align: right;\n",
              "    }\n",
              "</style>\n",
              "<table border=\"1\" class=\"dataframe\">\n",
              "  <thead>\n",
              "    <tr style=\"text-align: right;\">\n",
              "      <th></th>\n",
              "      <th>Station</th>\n",
              "      <th>Borough</th>\n",
              "    </tr>\n",
              "  </thead>\n",
              "  <tbody>\n",
              "    <tr>\n",
              "      <th>0</th>\n",
              "      <td>Caserne 49</td>\n",
              "      <td>Ahuntsic-Cartierville</td>\n",
              "    </tr>\n",
              "    <tr>\n",
              "      <th>1</th>\n",
              "      <td>Caserne 64</td>\n",
              "      <td>Lachine</td>\n",
              "    </tr>\n",
              "    <tr>\n",
              "      <th>2</th>\n",
              "      <td>Caserne 15</td>\n",
              "      <td>Le Sud-Ouest</td>\n",
              "    </tr>\n",
              "    <tr>\n",
              "      <th>3</th>\n",
              "      <td>Caserne 18</td>\n",
              "      <td>Montréal-Nord</td>\n",
              "    </tr>\n",
              "    <tr>\n",
              "      <th>4</th>\n",
              "      <td>Caserne 50</td>\n",
              "      <td>Rosemont–La Petite-Patrie</td>\n",
              "    </tr>\n",
              "  </tbody>\n",
              "</table>\n",
              "</div>"
            ],
            "text/plain": [
              "      Station                    Borough\n",
              "0  Caserne 49      Ahuntsic-Cartierville\n",
              "1  Caserne 64                    Lachine\n",
              "2  Caserne 15               Le Sud-Ouest\n",
              "3  Caserne 18              Montréal-Nord\n",
              "4  Caserne 50  Rosemont–La Petite-Patrie"
            ]
          },
          "metadata": {
            "tags": []
          },
          "execution_count": 49
        }
      ]
    },
    {
      "cell_type": "code",
      "metadata": {
        "id": "GQxP7_ZH5DJr",
        "colab_type": "code",
        "colab": {}
      },
      "source": [
        "social_housing_keys = social_housing_yr.join(keys)"
      ],
      "execution_count": 50,
      "outputs": []
    },
    {
      "cell_type": "code",
      "metadata": {
        "id": "9sz9yc7AzJUj",
        "colab_type": "code",
        "colab": {
          "base_uri": "https://localhost:8080/",
          "height": 191
        },
        "outputId": "6c24498c-632c-4b2b-cd0f-e967f1d67775"
      },
      "source": [
        "social_housing_keys.head()"
      ],
      "execution_count": 61,
      "outputs": [
        {
          "output_type": "execute_result",
          "data": {
            "text/html": [
              "<div>\n",
              "<style scoped>\n",
              "    .dataframe tbody tr th:only-of-type {\n",
              "        vertical-align: middle;\n",
              "    }\n",
              "\n",
              "    .dataframe tbody tr th {\n",
              "        vertical-align: top;\n",
              "    }\n",
              "\n",
              "    .dataframe thead th {\n",
              "        text-align: right;\n",
              "    }\n",
              "</style>\n",
              "<table border=\"1\" class=\"dataframe\">\n",
              "  <thead>\n",
              "    <tr style=\"text-align: right;\">\n",
              "      <th></th>\n",
              "      <th>Year</th>\n",
              "      <th>nom_projet</th>\n",
              "      <th>an_orig</th>\n",
              "      <th>nb_log</th>\n",
              "      <th>projettype</th>\n",
              "      <th>longitude</th>\n",
              "      <th>latitude</th>\n",
              "      <th>Station</th>\n",
              "      <th>Borough</th>\n",
              "    </tr>\n",
              "  </thead>\n",
              "  <tbody>\n",
              "    <tr>\n",
              "      <th>0</th>\n",
              "      <td>2005</td>\n",
              "      <td>Saint-Sulpice</td>\n",
              "      <td>1971.0</td>\n",
              "      <td>150</td>\n",
              "      <td>HLM</td>\n",
              "      <td>-73.645933</td>\n",
              "      <td>45.556394</td>\n",
              "      <td>Caserne 49</td>\n",
              "      <td>Ahuntsic-Cartierville</td>\n",
              "    </tr>\n",
              "    <tr>\n",
              "      <th>1</th>\n",
              "      <td>2005</td>\n",
              "      <td>Adrien Trudeau</td>\n",
              "      <td>1994.0</td>\n",
              "      <td>32</td>\n",
              "      <td>HLM</td>\n",
              "      <td>-73.672437</td>\n",
              "      <td>45.445957</td>\n",
              "      <td>Caserne 64</td>\n",
              "      <td>Lachine</td>\n",
              "    </tr>\n",
              "    <tr>\n",
              "      <th>2</th>\n",
              "      <td>2005</td>\n",
              "      <td>Montmorency</td>\n",
              "      <td>1978.0</td>\n",
              "      <td>80</td>\n",
              "      <td>HLM</td>\n",
              "      <td>-73.560734</td>\n",
              "      <td>45.486068</td>\n",
              "      <td>Caserne 15</td>\n",
              "      <td>Le Sud-Ouest</td>\n",
              "    </tr>\n",
              "    <tr>\n",
              "      <th>3</th>\n",
              "      <td>2005</td>\n",
              "      <td>Place Normandie</td>\n",
              "      <td>1972.0</td>\n",
              "      <td>168</td>\n",
              "      <td>HLM</td>\n",
              "      <td>-73.623530</td>\n",
              "      <td>45.623784</td>\n",
              "      <td>Caserne 18</td>\n",
              "      <td>Montréal-Nord</td>\n",
              "    </tr>\n",
              "    <tr>\n",
              "      <th>4</th>\n",
              "      <td>2005</td>\n",
              "      <td>Étienne-Desmarteaux</td>\n",
              "      <td>1978.0</td>\n",
              "      <td>117</td>\n",
              "      <td>HLM</td>\n",
              "      <td>-73.580121</td>\n",
              "      <td>45.558369</td>\n",
              "      <td>Caserne 50</td>\n",
              "      <td>Rosemont–La Petite-Patrie</td>\n",
              "    </tr>\n",
              "  </tbody>\n",
              "</table>\n",
              "</div>"
            ],
            "text/plain": [
              "   Year           nom_projet  ...     Station                    Borough\n",
              "0  2005        Saint-Sulpice  ...  Caserne 49      Ahuntsic-Cartierville\n",
              "1  2005       Adrien Trudeau  ...  Caserne 64                    Lachine\n",
              "2  2005          Montmorency  ...  Caserne 15               Le Sud-Ouest\n",
              "3  2005      Place Normandie  ...  Caserne 18              Montréal-Nord\n",
              "4  2005  Étienne-Desmarteaux  ...  Caserne 50  Rosemont–La Petite-Patrie\n",
              "\n",
              "[5 rows x 9 columns]"
            ]
          },
          "metadata": {
            "tags": []
          },
          "execution_count": 61
        }
      ]
    },
    {
      "cell_type": "code",
      "metadata": {
        "id": "TuLqEdxRPscC",
        "colab_type": "code",
        "colab": {}
      },
      "source": [
        "social_housing_final = social_housing_keys.pivot_table(index=['Year', 'Station'], columns='projettype', values='nb_log', aggfunc=np.sum)"
      ],
      "execution_count": 58,
      "outputs": []
    },
    {
      "cell_type": "code",
      "metadata": {
        "id": "MoOY3NVc5rbI",
        "colab_type": "code",
        "colab": {
          "base_uri": "https://localhost:8080/",
          "height": 191
        },
        "outputId": "ed126093-10a9-4bd1-dda1-9b82d8f5d9d1"
      },
      "source": [
        "social_housing_final.reset_index(level=0, inplace=True)\n",
        "social_housing_final.reset_index(level=0, inplace=True)\n",
        "social_housing_final['Station_'] = social_housing_final['Station'].str.slice(start=-2).astype(int)\n",
        "social_housing_final = social_housing_final.drop(['Station'], axis=1)\n",
        "social_housing_final.columns = ['Year','COOP_sum','HLM_sum', 'OBNL_sum', 'OMHM_sum','SHDM_sum', 'Station']\n",
        "social_housing_final=social_housing_final.fillna(0)\n",
        "social_housing_final.head()"
      ],
      "execution_count": 59,
      "outputs": [
        {
          "output_type": "execute_result",
          "data": {
            "text/html": [
              "<div>\n",
              "<style scoped>\n",
              "    .dataframe tbody tr th:only-of-type {\n",
              "        vertical-align: middle;\n",
              "    }\n",
              "\n",
              "    .dataframe tbody tr th {\n",
              "        vertical-align: top;\n",
              "    }\n",
              "\n",
              "    .dataframe thead th {\n",
              "        text-align: right;\n",
              "    }\n",
              "</style>\n",
              "<table border=\"1\" class=\"dataframe\">\n",
              "  <thead>\n",
              "    <tr style=\"text-align: right;\">\n",
              "      <th></th>\n",
              "      <th>Year</th>\n",
              "      <th>COOP_sum</th>\n",
              "      <th>HLM_sum</th>\n",
              "      <th>OBNL_sum</th>\n",
              "      <th>OMHM_sum</th>\n",
              "      <th>SHDM_sum</th>\n",
              "      <th>Station</th>\n",
              "    </tr>\n",
              "  </thead>\n",
              "  <tbody>\n",
              "    <tr>\n",
              "      <th>0</th>\n",
              "      <td>2005</td>\n",
              "      <td>215.0</td>\n",
              "      <td>876.0</td>\n",
              "      <td>48.0</td>\n",
              "      <td>26.0</td>\n",
              "      <td>29.0</td>\n",
              "      <td>3</td>\n",
              "    </tr>\n",
              "    <tr>\n",
              "      <th>1</th>\n",
              "      <td>2005</td>\n",
              "      <td>183.0</td>\n",
              "      <td>454.0</td>\n",
              "      <td>784.0</td>\n",
              "      <td>0.0</td>\n",
              "      <td>384.0</td>\n",
              "      <td>4</td>\n",
              "    </tr>\n",
              "    <tr>\n",
              "      <th>2</th>\n",
              "      <td>2005</td>\n",
              "      <td>133.0</td>\n",
              "      <td>1112.0</td>\n",
              "      <td>186.0</td>\n",
              "      <td>0.0</td>\n",
              "      <td>64.0</td>\n",
              "      <td>5</td>\n",
              "    </tr>\n",
              "    <tr>\n",
              "      <th>3</th>\n",
              "      <td>2005</td>\n",
              "      <td>113.0</td>\n",
              "      <td>20.0</td>\n",
              "      <td>92.0</td>\n",
              "      <td>0.0</td>\n",
              "      <td>0.0</td>\n",
              "      <td>8</td>\n",
              "    </tr>\n",
              "    <tr>\n",
              "      <th>4</th>\n",
              "      <td>2005</td>\n",
              "      <td>147.0</td>\n",
              "      <td>881.0</td>\n",
              "      <td>126.0</td>\n",
              "      <td>0.0</td>\n",
              "      <td>135.0</td>\n",
              "      <td>9</td>\n",
              "    </tr>\n",
              "  </tbody>\n",
              "</table>\n",
              "</div>"
            ],
            "text/plain": [
              "   Year  COOP_sum  HLM_sum  OBNL_sum  OMHM_sum  SHDM_sum  Station\n",
              "0  2005     215.0    876.0      48.0      26.0      29.0        3\n",
              "1  2005     183.0    454.0     784.0       0.0     384.0        4\n",
              "2  2005     133.0   1112.0     186.0       0.0      64.0        5\n",
              "3  2005     113.0     20.0      92.0       0.0       0.0        8\n",
              "4  2005     147.0    881.0     126.0       0.0     135.0        9"
            ]
          },
          "metadata": {
            "tags": []
          },
          "execution_count": 59
        }
      ]
    },
    {
      "cell_type": "code",
      "metadata": {
        "id": "lxq81ktYSqGi",
        "colab_type": "code",
        "colab": {}
      },
      "source": [
        "social_housing_final.to_csv('/content/drive/My Drive/Data/YCBS-299/social_housing.csv', index=False)"
      ],
      "execution_count": 60,
      "outputs": []
    }
  ]
}