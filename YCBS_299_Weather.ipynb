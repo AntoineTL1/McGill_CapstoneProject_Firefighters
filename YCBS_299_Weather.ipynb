{
  "nbformat": 4,
  "nbformat_minor": 0,
  "metadata": {
    "colab": {
      "name": "YCBS-299 Weather.ipynb",
      "provenance": [],
      "collapsed_sections": []
    },
    "kernelspec": {
      "name": "python3",
      "display_name": "Python 3"
    }
  },
  "cells": [
    {
      "cell_type": "code",
      "metadata": {
        "id": "4aYOIGZC7Xe1",
        "colab_type": "code",
        "colab": {}
      },
      "source": [
        "import pandas as pd\n",
        "import io\n",
        "import os\n",
        "from google.colab import drive\n",
        "import numpy as np\n",
        "from datetime import datetime"
      ],
      "execution_count": 1,
      "outputs": []
    },
    {
      "cell_type": "code",
      "metadata": {
        "id": "W9gphDFc7nIN",
        "colab_type": "code",
        "colab": {
          "base_uri": "https://localhost:8080/",
          "height": 124
        },
        "outputId": "4ade477e-ba56-41a6-f6e2-42df0d83ae9f"
      },
      "source": [
        "# This will allow us to save files in Google Drive\n",
        "drive.mount('/content/drive', force_remount=True)"
      ],
      "execution_count": 2,
      "outputs": [
        {
          "output_type": "stream",
          "text": [
            "Go to this URL in a browser: https://accounts.google.com/o/oauth2/auth?client_id=947318989803-6bn6qk8qdgf4n4g3pfee6491hc0brc4i.apps.googleusercontent.com&redirect_uri=urn%3aietf%3awg%3aoauth%3a2.0%3aoob&response_type=code&scope=email%20https%3a%2f%2fwww.googleapis.com%2fauth%2fdocs.test%20https%3a%2f%2fwww.googleapis.com%2fauth%2fdrive%20https%3a%2f%2fwww.googleapis.com%2fauth%2fdrive.photos.readonly%20https%3a%2f%2fwww.googleapis.com%2fauth%2fpeopleapi.readonly\n",
            "\n",
            "Enter your authorization code:\n",
            "··········\n",
            "Mounted at /content/drive\n"
          ],
          "name": "stdout"
        }
      ]
    },
    {
      "cell_type": "markdown",
      "metadata": {
        "id": "99o5uK7K7uB6",
        "colab_type": "text"
      },
      "source": [
        "#### 1) First, we will define a function that will allow us to extract weather data from Canada Gov"
      ]
    },
    {
      "cell_type": "code",
      "metadata": {
        "id": "j5qosRa3O64D",
        "colab_type": "code",
        "colab": {}
      },
      "source": [
        "def getHourlyData(stationID, year, month):\n",
        "    base_url = \"http://climate.weather.gc.ca/climate_data/bulk_data_e.html?\"\n",
        "    query_url = \"format=csv&stationID={}&Year={}&Month={}&timeframe=1\".format(stationID, year, month)\n",
        "    api_endpoint = base_url + query_url\n",
        "    return pd.read_csv(api_endpoint, skiprows=0)"
      ],
      "execution_count": 3,
      "outputs": []
    },
    {
      "cell_type": "markdown",
      "metadata": {
        "id": "U7y-IJdylvi-",
        "colab_type": "text"
      },
      "source": [
        "#### 2) We get the weather for only one weather station McTavish (ID=30165)"
      ]
    },
    {
      "cell_type": "code",
      "metadata": {
        "id": "P6yTM-5zPnQz",
        "colab_type": "code",
        "colab": {}
      },
      "source": [
        "stationID = 30165\n",
        "year_list = [2015,2016,2017,2018,2019]\n",
        "\n",
        "frames = []\n",
        "for year in year_list:\n",
        "  for month in range(12):\n",
        "    df = getHourlyData(stationID, year, month+1)\n",
        "    frames.append(df)\n",
        "\n",
        "weather_data = pd.concat(frames)"
      ],
      "execution_count": 4,
      "outputs": []
    },
    {
      "cell_type": "markdown",
      "metadata": {
        "id": "logj9XNTmVuZ",
        "colab_type": "text"
      },
      "source": [
        "#### 3) Recode time into shifts"
      ]
    },
    {
      "cell_type": "code",
      "metadata": {
        "id": "KPqbhMEvDh_s",
        "colab_type": "code",
        "colab": {}
      },
      "source": [
        "# Data cleaning\n",
        "climate_raw = weather_data.copy()\n",
        "climate_raw['Shift'] = climate_raw['Time'].apply(lambda x: 'Night' if x<'08:00' else 'Day' if  x<'16:00' else 'Evening')\n",
        "climate_raw['Date']  = climate_raw['Date/Time'].str.slice(start=0, stop=10)\n",
        "\n",
        "# Keep useful columns\n",
        "climate = climate_raw[[ 'Date', 'Shift', 'Temp (°C)', 'Rel Hum (%)', 'Wind Dir (10s deg)', 'Wind Spd (km/h)', 'Stn Press (kPa)']]\n",
        "\n",
        "# Rename columns\n",
        "climate = climate.rename(columns={'Date': 'Date', 'Shift': 'Shift', 'Temp (°C)': 'Temp_DC', 'Rel Hum (%)': 'Humid_percent', 'Wind Dir (10s deg)': 'Win_Dir', \n",
        "                                  'Wind Spd (km/h)': 'Wind_Speed', 'Stn Press (kPa)': 'Stn_Press'})\n",
        "\n",
        "# Use aggregate functions\n",
        "climate_mean = climate.groupby(['Date','Shift']).mean()\n",
        "climate_min  = climate.groupby(['Date','Shift']).min()\n",
        "climate_max  = climate.groupby(['Date','Shift']).max()\n",
        "\n",
        "climate_mean = climate_mean.rename(columns={'Temp_DC': 'Temp_DC_Mean', 'Humid_percent': 'Humid_percent_Mean', 'Win_Dir': 'Win_Dir_Mean',\n",
        "                                            'Wind_Speed': 'Wind_Speed_Mean', 'Stn_Press': 'Stn_Press_Mean'})\n",
        "climate_max = climate_max.rename(columns={'Temp_DC': 'Temp_DC_Max', 'Humid_percent': 'Humid_percent_Max', 'Win_Dir': 'Win_Dir_Max', \n",
        "                                          'Wind_Speed': 'Wind_Speed_Max', 'Stn_Press': 'Stn_Press_Max'})\n",
        "climate_min = climate_min.rename(columns={'Temp_DC': 'Temp_DC_Min', 'Humid_percent': 'Humid_percent_Min', 'Win_Dir': 'Win_Dir_Min', \n",
        "                                          'Wind_Speed': 'Wind_Speed_Min', 'Stn_Press': 'Stn_Press_Min'})\n",
        "\n",
        "# Join data\n",
        "climate_final =climate_mean.join(climate_max)\n",
        "climate_final =climate_final.join(climate_min)"
      ],
      "execution_count": 7,
      "outputs": []
    },
    {
      "cell_type": "code",
      "metadata": {
        "id": "3jIYZleFTDNr",
        "colab_type": "code",
        "colab": {
          "base_uri": "https://localhost:8080/",
          "height": 233
        },
        "outputId": "1a6e6430-0620-4e7d-bfa3-90317e63bc1f"
      },
      "source": [
        "# Check data\n",
        "climate_final.head()"
      ],
      "execution_count": 8,
      "outputs": [
        {
          "output_type": "execute_result",
          "data": {
            "text/html": [
              "<div>\n",
              "<style scoped>\n",
              "    .dataframe tbody tr th:only-of-type {\n",
              "        vertical-align: middle;\n",
              "    }\n",
              "\n",
              "    .dataframe tbody tr th {\n",
              "        vertical-align: top;\n",
              "    }\n",
              "\n",
              "    .dataframe thead th {\n",
              "        text-align: right;\n",
              "    }\n",
              "</style>\n",
              "<table border=\"1\" class=\"dataframe\">\n",
              "  <thead>\n",
              "    <tr style=\"text-align: right;\">\n",
              "      <th></th>\n",
              "      <th></th>\n",
              "      <th>Temp_DC_Mean</th>\n",
              "      <th>Humid_percent_Mean</th>\n",
              "      <th>Win_Dir_Mean</th>\n",
              "      <th>Wind_Speed_Mean</th>\n",
              "      <th>Stn_Press_Mean</th>\n",
              "      <th>Temp_DC_Max</th>\n",
              "      <th>Humid_percent_Max</th>\n",
              "      <th>Win_Dir_Max</th>\n",
              "      <th>Wind_Speed_Max</th>\n",
              "      <th>Stn_Press_Max</th>\n",
              "      <th>Temp_DC_Min</th>\n",
              "      <th>Humid_percent_Min</th>\n",
              "      <th>Win_Dir_Min</th>\n",
              "      <th>Wind_Speed_Min</th>\n",
              "      <th>Stn_Press_Min</th>\n",
              "    </tr>\n",
              "    <tr>\n",
              "      <th>Date</th>\n",
              "      <th>Shift</th>\n",
              "      <th></th>\n",
              "      <th></th>\n",
              "      <th></th>\n",
              "      <th></th>\n",
              "      <th></th>\n",
              "      <th></th>\n",
              "      <th></th>\n",
              "      <th></th>\n",
              "      <th></th>\n",
              "      <th></th>\n",
              "      <th></th>\n",
              "      <th></th>\n",
              "      <th></th>\n",
              "      <th></th>\n",
              "      <th></th>\n",
              "    </tr>\n",
              "  </thead>\n",
              "  <tbody>\n",
              "    <tr>\n",
              "      <th rowspan=\"3\" valign=\"top\">2015-01-01</th>\n",
              "      <th>Day</th>\n",
              "      <td>-4.1375</td>\n",
              "      <td>71.875</td>\n",
              "      <td>22.625</td>\n",
              "      <td>27.625</td>\n",
              "      <td>100.37000</td>\n",
              "      <td>-3.3</td>\n",
              "      <td>84.0</td>\n",
              "      <td>23.0</td>\n",
              "      <td>33.0</td>\n",
              "      <td>100.58</td>\n",
              "      <td>-5.7</td>\n",
              "      <td>59.0</td>\n",
              "      <td>22.0</td>\n",
              "      <td>24.0</td>\n",
              "      <td>100.18</td>\n",
              "    </tr>\n",
              "    <tr>\n",
              "      <th>Evening</th>\n",
              "      <td>-3.4375</td>\n",
              "      <td>82.125</td>\n",
              "      <td>23.250</td>\n",
              "      <td>24.125</td>\n",
              "      <td>100.26375</td>\n",
              "      <td>-3.2</td>\n",
              "      <td>90.0</td>\n",
              "      <td>25.0</td>\n",
              "      <td>27.0</td>\n",
              "      <td>100.39</td>\n",
              "      <td>-3.7</td>\n",
              "      <td>69.0</td>\n",
              "      <td>21.0</td>\n",
              "      <td>21.0</td>\n",
              "      <td>100.22</td>\n",
              "    </tr>\n",
              "    <tr>\n",
              "      <th>Night</th>\n",
              "      <td>-6.6250</td>\n",
              "      <td>67.625</td>\n",
              "      <td>22.250</td>\n",
              "      <td>21.250</td>\n",
              "      <td>100.70000</td>\n",
              "      <td>-6.0</td>\n",
              "      <td>78.0</td>\n",
              "      <td>24.0</td>\n",
              "      <td>26.0</td>\n",
              "      <td>100.81</td>\n",
              "      <td>-7.2</td>\n",
              "      <td>46.0</td>\n",
              "      <td>21.0</td>\n",
              "      <td>18.0</td>\n",
              "      <td>100.58</td>\n",
              "    </tr>\n",
              "    <tr>\n",
              "      <th rowspan=\"2\" valign=\"top\">2015-01-02</th>\n",
              "      <th>Day</th>\n",
              "      <td>-8.3250</td>\n",
              "      <td>50.125</td>\n",
              "      <td>28.125</td>\n",
              "      <td>24.750</td>\n",
              "      <td>101.59500</td>\n",
              "      <td>-7.8</td>\n",
              "      <td>56.0</td>\n",
              "      <td>30.0</td>\n",
              "      <td>32.0</td>\n",
              "      <td>101.86</td>\n",
              "      <td>-9.5</td>\n",
              "      <td>45.0</td>\n",
              "      <td>27.0</td>\n",
              "      <td>13.0</td>\n",
              "      <td>101.31</td>\n",
              "    </tr>\n",
              "    <tr>\n",
              "      <th>Evening</th>\n",
              "      <td>-10.8875</td>\n",
              "      <td>48.625</td>\n",
              "      <td>28.875</td>\n",
              "      <td>12.500</td>\n",
              "      <td>102.41625</td>\n",
              "      <td>-8.3</td>\n",
              "      <td>52.0</td>\n",
              "      <td>30.0</td>\n",
              "      <td>25.0</td>\n",
              "      <td>102.83</td>\n",
              "      <td>-12.4</td>\n",
              "      <td>44.0</td>\n",
              "      <td>28.0</td>\n",
              "      <td>5.0</td>\n",
              "      <td>101.97</td>\n",
              "    </tr>\n",
              "  </tbody>\n",
              "</table>\n",
              "</div>"
            ],
            "text/plain": [
              "                    Temp_DC_Mean  ...  Stn_Press_Min\n",
              "Date       Shift                  ...               \n",
              "2015-01-01 Day           -4.1375  ...         100.18\n",
              "           Evening       -3.4375  ...         100.22\n",
              "           Night         -6.6250  ...         100.58\n",
              "2015-01-02 Day           -8.3250  ...         101.31\n",
              "           Evening      -10.8875  ...         101.97\n",
              "\n",
              "[5 rows x 15 columns]"
            ]
          },
          "metadata": {
            "tags": []
          },
          "execution_count": 8
        }
      ]
    },
    {
      "cell_type": "markdown",
      "metadata": {
        "id": "S3A3v_4Vm6wa",
        "colab_type": "text"
      },
      "source": [
        "#### 4) Output data to One Drive"
      ]
    },
    {
      "cell_type": "code",
      "metadata": {
        "id": "MSuE1G7nTDHz",
        "colab_type": "code",
        "colab": {}
      },
      "source": [
        "climate_final.to_csv('/content/drive/My Drive/Data/YCBS-299/Weather_data_2015_2019.csv')"
      ],
      "execution_count": 9,
      "outputs": []
    }
  ]
}