{
  "nbformat": 4,
  "nbformat_minor": 0,
  "metadata": {
    "colab": {
      "name": "YCBS-299 Weather.ipynb",
      "provenance": [],
      "collapsed_sections": []
    },
    "kernelspec": {
      "name": "python3",
      "display_name": "Python 3"
    }
  },
  "cells": [
    {
      "cell_type": "code",
      "metadata": {
        "id": "4aYOIGZC7Xe1",
        "colab_type": "code",
        "colab": {}
      },
      "source": [
        "import pandas as pd\n",
        "import io\n",
        "import os\n",
        "from google.colab import drive\n",
        "import numpy as np\n",
        "from datetime import datetime"
      ],
      "execution_count": 43,
      "outputs": []
    },
    {
      "cell_type": "code",
      "metadata": {
        "id": "W9gphDFc7nIN",
        "colab_type": "code",
        "colab": {
          "base_uri": "https://localhost:8080/",
          "height": 35
        },
        "outputId": "e465f2f5-045f-43d2-8267-f1c5a4b8b273"
      },
      "source": [
        "# This will allow us to save files in Google Drive\n",
        "drive.mount('/content/drive', force_remount=True)"
      ],
      "execution_count": 44,
      "outputs": [
        {
          "output_type": "stream",
          "text": [
            "Mounted at /content/drive\n"
          ],
          "name": "stdout"
        }
      ]
    },
    {
      "cell_type": "markdown",
      "metadata": {
        "id": "99o5uK7K7uB6",
        "colab_type": "text"
      },
      "source": [
        "#### 1) First, we will define a function that will allow us to extract weather data from Canada Gov"
      ]
    },
    {
      "cell_type": "code",
      "metadata": {
        "id": "j5qosRa3O64D",
        "colab_type": "code",
        "colab": {}
      },
      "source": [
        "def getHourlyData(stationID, year, month):\n",
        "    base_url = \"http://climate.weather.gc.ca/climate_data/bulk_data_e.html?\"\n",
        "    query_url = \"format=csv&stationID={}&Year={}&Month={}&timeframe=1\".format(stationID, year, month)\n",
        "    api_endpoint = base_url + query_url\n",
        "    return pd.read_csv(api_endpoint, skiprows=0)"
      ],
      "execution_count": 45,
      "outputs": []
    },
    {
      "cell_type": "markdown",
      "metadata": {
        "id": "U7y-IJdylvi-",
        "colab_type": "text"
      },
      "source": [
        "#### 2) We get the weather for only one weather station McTavish (ID=30165)"
      ]
    },
    {
      "cell_type": "code",
      "metadata": {
        "id": "P6yTM-5zPnQz",
        "colab_type": "code",
        "colab": {}
      },
      "source": [
        "stationID = 5415\n",
        "year_list = [2005,2006,2007,2008]\n",
        "\n",
        "frames_1 = []\n",
        "for year in year_list:\n",
        "  for month in range(12):\n",
        "    df = getHourlyData(stationID, year, month+1)\n",
        "    frames_1.append(df)\n",
        "\n",
        "stationID = 30165\n",
        "year_list = [2009,2010,2011,2012,2013,2014,2015,2016,2017,2018,2019,2019,2020]\n",
        "\n",
        "frames_2 = []\n",
        "for year in year_list:\n",
        "  for month in range(12):\n",
        "    df = getHourlyData(stationID, year, month+1)\n",
        "    frames_2.append(df)"
      ],
      "execution_count": 46,
      "outputs": []
    },
    {
      "cell_type": "code",
      "metadata": {
        "id": "r5EZRgODEC3c",
        "colab_type": "code",
        "colab": {}
      },
      "source": [
        "weather_data_1 = pd.concat(frames_1)\n",
        "weather_data_2 = pd.concat(frames_2)\n",
        "frames = [weather_data_1, weather_data_2]\n",
        "weather_data = pd.concat(frames)"
      ],
      "execution_count": 47,
      "outputs": []
    },
    {
      "cell_type": "markdown",
      "metadata": {
        "id": "logj9XNTmVuZ",
        "colab_type": "text"
      },
      "source": [
        "#### 3) Recode time into shifts"
      ]
    },
    {
      "cell_type": "code",
      "metadata": {
        "id": "KPqbhMEvDh_s",
        "colab_type": "code",
        "colab": {}
      },
      "source": [
        "# Data cleaning\n",
        "climate_raw = weather_data.copy()\n",
        "climate_raw['Shift'] = climate_raw['Time'].apply(lambda x: 1 if x<'08:00' else 2 if  x<'16:00' else 3)\n",
        "climate_raw['Date']  = climate_raw['Date/Time'].str.slice(start=0, stop=10)\n",
        "\n",
        "# Keep useful columns\n",
        "climate = climate_raw[[ 'Date', 'Shift', 'Temp (°C)', 'Rel Hum (%)', 'Wind Dir (10s deg)', 'Wind Spd (km/h)', 'Stn Press (kPa)']]\n",
        "\n",
        "# Rename columns\n",
        "climate = climate.rename(columns={'Date': 'Date', 'Shift': 'Shift', 'Temp (°C)': 'Temp_DC', 'Rel Hum (%)': 'Humid_percent', 'Wind Dir (10s deg)': 'Win_Dir', \n",
        "                                  'Wind Spd (km/h)': 'Wind_Speed', 'Stn Press (kPa)': 'Stn_Press'})\n",
        "\n",
        "# Use aggregate functions\n",
        "climate_mean = climate.groupby(['Date','Shift']).mean()\n",
        "climate_min  = climate.groupby(['Date','Shift']).min()\n",
        "climate_max  = climate.groupby(['Date','Shift']).max()\n",
        "\n",
        "climate_mean = climate_mean.rename(columns={'Temp_DC': 'Temp_DC_Mean', 'Humid_percent': 'Humid_percent_Mean', 'Win_Dir': 'Win_Dir_Mean',\n",
        "                                            'Wind_Speed': 'Wind_Speed_Mean', 'Stn_Press': 'Stn_Press_Mean'})\n",
        "climate_max = climate_max.rename(columns={'Temp_DC': 'Temp_DC_Max', 'Humid_percent': 'Humid_percent_Max', 'Win_Dir': 'Win_Dir_Max', \n",
        "                                          'Wind_Speed': 'Wind_Speed_Max', 'Stn_Press': 'Stn_Press_Max'})\n",
        "climate_min = climate_min.rename(columns={'Temp_DC': 'Temp_DC_Min', 'Humid_percent': 'Humid_percent_Min', 'Win_Dir': 'Win_Dir_Min', \n",
        "                                          'Wind_Speed': 'Wind_Speed_Min', 'Stn_Press': 'Stn_Press_Min'})\n",
        "\n",
        "# Join data\n",
        "climate_final =climate_mean.join(climate_max)\n",
        "climate_final =climate_final.join(climate_min)"
      ],
      "execution_count": 48,
      "outputs": []
    },
    {
      "cell_type": "code",
      "metadata": {
        "id": "3jIYZleFTDNr",
        "colab_type": "code",
        "colab": {
          "base_uri": "https://localhost:8080/",
          "height": 248
        },
        "outputId": "85d33ded-91d0-4b4f-dd61-120d5b1fee6f"
      },
      "source": [
        "# Check data\n",
        "climate_final = climate_final.loc['2005-01-01':'2020-06-30']\n",
        "climate_final.head()"
      ],
      "execution_count": 49,
      "outputs": [
        {
          "output_type": "execute_result",
          "data": {
            "text/html": [
              "<div>\n",
              "<style scoped>\n",
              "    .dataframe tbody tr th:only-of-type {\n",
              "        vertical-align: middle;\n",
              "    }\n",
              "\n",
              "    .dataframe tbody tr th {\n",
              "        vertical-align: top;\n",
              "    }\n",
              "\n",
              "    .dataframe thead th {\n",
              "        text-align: right;\n",
              "    }\n",
              "</style>\n",
              "<table border=\"1\" class=\"dataframe\">\n",
              "  <thead>\n",
              "    <tr style=\"text-align: right;\">\n",
              "      <th></th>\n",
              "      <th></th>\n",
              "      <th>Temp_DC_Mean</th>\n",
              "      <th>Humid_percent_Mean</th>\n",
              "      <th>Win_Dir_Mean</th>\n",
              "      <th>Wind_Speed_Mean</th>\n",
              "      <th>Stn_Press_Mean</th>\n",
              "      <th>Temp_DC_Max</th>\n",
              "      <th>Humid_percent_Max</th>\n",
              "      <th>Win_Dir_Max</th>\n",
              "      <th>Wind_Speed_Max</th>\n",
              "      <th>Stn_Press_Max</th>\n",
              "      <th>Temp_DC_Min</th>\n",
              "      <th>Humid_percent_Min</th>\n",
              "      <th>Win_Dir_Min</th>\n",
              "      <th>Wind_Speed_Min</th>\n",
              "      <th>Stn_Press_Min</th>\n",
              "    </tr>\n",
              "    <tr>\n",
              "      <th>Date</th>\n",
              "      <th>Shift</th>\n",
              "      <th></th>\n",
              "      <th></th>\n",
              "      <th></th>\n",
              "      <th></th>\n",
              "      <th></th>\n",
              "      <th></th>\n",
              "      <th></th>\n",
              "      <th></th>\n",
              "      <th></th>\n",
              "      <th></th>\n",
              "      <th></th>\n",
              "      <th></th>\n",
              "      <th></th>\n",
              "      <th></th>\n",
              "      <th></th>\n",
              "    </tr>\n",
              "  </thead>\n",
              "  <tbody>\n",
              "    <tr>\n",
              "      <th rowspan=\"3\" valign=\"top\">2005-01-01</th>\n",
              "      <th>1</th>\n",
              "      <td>5.2250</td>\n",
              "      <td>73.625</td>\n",
              "      <td>26.250</td>\n",
              "      <td>34.375</td>\n",
              "      <td>100.90750</td>\n",
              "      <td>9.2</td>\n",
              "      <td>91.0</td>\n",
              "      <td>27.0</td>\n",
              "      <td>46.0</td>\n",
              "      <td>101.44</td>\n",
              "      <td>3.1</td>\n",
              "      <td>60.0</td>\n",
              "      <td>24.0</td>\n",
              "      <td>28.0</td>\n",
              "      <td>100.47</td>\n",
              "    </tr>\n",
              "    <tr>\n",
              "      <th>2</th>\n",
              "      <td>0.6250</td>\n",
              "      <td>65.875</td>\n",
              "      <td>28.875</td>\n",
              "      <td>24.375</td>\n",
              "      <td>102.17375</td>\n",
              "      <td>2.6</td>\n",
              "      <td>78.0</td>\n",
              "      <td>30.0</td>\n",
              "      <td>28.0</td>\n",
              "      <td>102.71</td>\n",
              "      <td>-1.1</td>\n",
              "      <td>54.0</td>\n",
              "      <td>27.0</td>\n",
              "      <td>19.0</td>\n",
              "      <td>101.60</td>\n",
              "    </tr>\n",
              "    <tr>\n",
              "      <th>3</th>\n",
              "      <td>-5.5750</td>\n",
              "      <td>52.250</td>\n",
              "      <td>21.500</td>\n",
              "      <td>18.500</td>\n",
              "      <td>103.31750</td>\n",
              "      <td>-1.9</td>\n",
              "      <td>57.0</td>\n",
              "      <td>36.0</td>\n",
              "      <td>28.0</td>\n",
              "      <td>103.64</td>\n",
              "      <td>-9.5</td>\n",
              "      <td>49.0</td>\n",
              "      <td>2.0</td>\n",
              "      <td>11.0</td>\n",
              "      <td>102.86</td>\n",
              "    </tr>\n",
              "    <tr>\n",
              "      <th rowspan=\"2\" valign=\"top\">2005-01-02</th>\n",
              "      <th>1</th>\n",
              "      <td>-13.8750</td>\n",
              "      <td>64.250</td>\n",
              "      <td>4.750</td>\n",
              "      <td>21.500</td>\n",
              "      <td>103.78125</td>\n",
              "      <td>-10.7</td>\n",
              "      <td>69.0</td>\n",
              "      <td>6.0</td>\n",
              "      <td>24.0</td>\n",
              "      <td>103.83</td>\n",
              "      <td>-15.9</td>\n",
              "      <td>59.0</td>\n",
              "      <td>3.0</td>\n",
              "      <td>19.0</td>\n",
              "      <td>103.69</td>\n",
              "    </tr>\n",
              "    <tr>\n",
              "      <th>2</th>\n",
              "      <td>-13.9375</td>\n",
              "      <td>76.500</td>\n",
              "      <td>4.625</td>\n",
              "      <td>23.250</td>\n",
              "      <td>102.97750</td>\n",
              "      <td>-11.2</td>\n",
              "      <td>87.0</td>\n",
              "      <td>6.0</td>\n",
              "      <td>28.0</td>\n",
              "      <td>103.63</td>\n",
              "      <td>-15.8</td>\n",
              "      <td>71.0</td>\n",
              "      <td>4.0</td>\n",
              "      <td>20.0</td>\n",
              "      <td>102.19</td>\n",
              "    </tr>\n",
              "  </tbody>\n",
              "</table>\n",
              "</div>"
            ],
            "text/plain": [
              "                  Temp_DC_Mean  ...  Stn_Press_Min\n",
              "Date       Shift                ...               \n",
              "2005-01-01 1            5.2250  ...         100.47\n",
              "           2            0.6250  ...         101.60\n",
              "           3           -5.5750  ...         102.86\n",
              "2005-01-02 1          -13.8750  ...         103.69\n",
              "           2          -13.9375  ...         102.19\n",
              "\n",
              "[5 rows x 15 columns]"
            ]
          },
          "metadata": {
            "tags": []
          },
          "execution_count": 49
        }
      ]
    },
    {
      "cell_type": "markdown",
      "metadata": {
        "id": "S3A3v_4Vm6wa",
        "colab_type": "text"
      },
      "source": [
        "#### 4) Output data to One Drive"
      ]
    },
    {
      "cell_type": "code",
      "metadata": {
        "id": "MSuE1G7nTDHz",
        "colab_type": "code",
        "colab": {}
      },
      "source": [
        "climate_final.to_csv('/content/drive/My Drive/Data/YCBS-299/Weather_data_2005_2020.csv')"
      ],
      "execution_count": 50,
      "outputs": []
    }
  ]
}