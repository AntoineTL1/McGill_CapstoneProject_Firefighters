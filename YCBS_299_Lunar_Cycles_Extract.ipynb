{
 "cells": [
  {
   "cell_type": "markdown",
   "metadata": {},
   "source": [
    "# Data Extraction; Lunar Cycle"
   ]
  },
  {
   "cell_type": "markdown",
   "metadata": {},
   "source": [
    "This notebook extracts the lunar cycles from 2000 to 2020"
   ]
  },
  {
   "cell_type": "markdown",
   "metadata": {},
   "source": [
    "## Table of Contents\n",
    "\n",
    "1. Load data\n",
    "2. Prepare data\n",
    "3. Quick Analysis\n",
    "4. Export data & Analysis"
   ]
  },
  {
   "cell_type": "code",
   "execution_count": 3,
   "metadata": {},
   "outputs": [
    {
     "name": "stdout",
     "output_type": "stream",
     "text": [
      "Help on package pylunar:\n",
      "\n",
      "NAME\n",
      "    pylunar\n",
      "\n",
      "DESCRIPTION\n",
      "    # This file is part of pylunar.\n",
      "    #\n",
      "    # Developed by Michael Reuter.\n",
      "    #\n",
      "    # See the LICENSE file at the top-level directory of this distribution\n",
      "    # for details of code ownership.\n",
      "    #\n",
      "    # Use of this source code is governed by a 3-clause BSD-style\n",
      "    # license that can be found in the LICENSE file.\n",
      "\n",
      "PACKAGE CONTENTS\n",
      "    helpers\n",
      "    lunar_feature\n",
      "    lunar_feature_container\n",
      "    moon_info\n",
      "\n",
      "DATA\n",
      "    __email__ = 'mareuternh@gmail.com'\n",
      "\n",
      "VERSION\n",
      "    0.6.0\n",
      "\n",
      "AUTHOR\n",
      "    Michael Reuter\n",
      "\n",
      "FILE\n",
      "    c:\\users\\athompson-leduc\\appdata\\local\\continuum\\anaconda3\\lib\\site-packages\\pylunar\\__init__.py\n",
      "\n",
      "\n"
     ]
    }
   ],
   "source": [
    "import pylunar\n",
    "import datetime\n",
    "import pandas as pd\n",
    "\n",
    "help(pylunar)\n",
    "# taking the coordinates from google search: 'Montreal coordinates'\n",
    "\n",
    "mi = pylunar.MoonInfo((45, 50, 17), (-73,56,73))"
   ]
  },
  {
   "cell_type": "markdown",
   "metadata": {},
   "source": [
    "## 1 Load data "
   ]
  },
  {
   "cell_type": "code",
   "execution_count": 13,
   "metadata": {},
   "outputs": [],
   "source": [
    "start_date = datetime.date(2005, 1, 1)\n",
    "end_date = datetime.date(2019, 12, 31)\n",
    "delta = datetime.timedelta(days = 1)\n",
    "\n",
    "data_list = []\n",
    "cols = ['date', 'moon_phase_fract', 'moon_phase_name']\n",
    "df_moon = pd.DataFrame(columns=cols)\n",
    "\n",
    "while start_date <= end_date:\n",
    "\n",
    "    # we use the coordinates at midnight\n",
    "    mi.update((start_date.year, start_date.month, start_date.day, 0, 0, 0))\n",
    "    \n",
    "    df_moon = df_moon.append({'moon_phase_name':mi.phase_name(), 'date':start_date, 'moon_phase_fract':mi.fractional_phase()}, ignore_index = True)\n",
    "    \n",
    "    start_date += delta"
   ]
  },
  {
   "cell_type": "markdown",
   "metadata": {},
   "source": [
    "## 2 Prep data"
   ]
  },
  {
   "cell_type": "code",
   "execution_count": 14,
   "metadata": {},
   "outputs": [
    {
     "data": {
      "text/html": [
       "<div>\n",
       "<style scoped>\n",
       "    .dataframe tbody tr th:only-of-type {\n",
       "        vertical-align: middle;\n",
       "    }\n",
       "\n",
       "    .dataframe tbody tr th {\n",
       "        vertical-align: top;\n",
       "    }\n",
       "\n",
       "    .dataframe thead th {\n",
       "        text-align: right;\n",
       "    }\n",
       "</style>\n",
       "<table border=\"1\" class=\"dataframe\">\n",
       "  <thead>\n",
       "    <tr style=\"text-align: right;\">\n",
       "      <th></th>\n",
       "      <th>date</th>\n",
       "      <th>moon_phase_fract</th>\n",
       "      <th>moon_phase_name</th>\n",
       "    </tr>\n",
       "  </thead>\n",
       "  <tbody>\n",
       "    <tr>\n",
       "      <th>0</th>\n",
       "      <td>2005-01-01</td>\n",
       "      <td>0.760662</td>\n",
       "      <td>WANING_GIBBOUS</td>\n",
       "    </tr>\n",
       "    <tr>\n",
       "      <th>1</th>\n",
       "      <td>2005-01-02</td>\n",
       "      <td>0.673395</td>\n",
       "      <td>WANING_GIBBOUS</td>\n",
       "    </tr>\n",
       "    <tr>\n",
       "      <th>2</th>\n",
       "      <td>2005-01-03</td>\n",
       "      <td>0.577129</td>\n",
       "      <td>WANING_GIBBOUS</td>\n",
       "    </tr>\n",
       "    <tr>\n",
       "      <th>3</th>\n",
       "      <td>2005-01-04</td>\n",
       "      <td>0.474584</td>\n",
       "      <td>WANING_CRESCENT</td>\n",
       "    </tr>\n",
       "    <tr>\n",
       "      <th>4</th>\n",
       "      <td>2005-01-05</td>\n",
       "      <td>0.369437</td>\n",
       "      <td>WANING_CRESCENT</td>\n",
       "    </tr>\n",
       "  </tbody>\n",
       "</table>\n",
       "</div>"
      ],
      "text/plain": [
       "         date  moon_phase_fract  moon_phase_name\n",
       "0  2005-01-01          0.760662   WANING_GIBBOUS\n",
       "1  2005-01-02          0.673395   WANING_GIBBOUS\n",
       "2  2005-01-03          0.577129   WANING_GIBBOUS\n",
       "3  2005-01-04          0.474584  WANING_CRESCENT\n",
       "4  2005-01-05          0.369437  WANING_CRESCENT"
      ]
     },
     "execution_count": 14,
     "metadata": {},
     "output_type": "execute_result"
    }
   ],
   "source": [
    "df_moon.head()"
   ]
  },
  {
   "cell_type": "markdown",
   "metadata": {},
   "source": [
    "## 3 Analysis"
   ]
  },
  {
   "cell_type": "code",
   "execution_count": 15,
   "metadata": {},
   "outputs": [
    {
     "data": {
      "text/html": [
       "<div>\n",
       "<style scoped>\n",
       "    .dataframe tbody tr th:only-of-type {\n",
       "        vertical-align: middle;\n",
       "    }\n",
       "\n",
       "    .dataframe tbody tr th {\n",
       "        vertical-align: top;\n",
       "    }\n",
       "\n",
       "    .dataframe thead th {\n",
       "        text-align: right;\n",
       "    }\n",
       "</style>\n",
       "<table border=\"1\" class=\"dataframe\">\n",
       "  <thead>\n",
       "    <tr style=\"text-align: right;\">\n",
       "      <th></th>\n",
       "      <th>date</th>\n",
       "      <th>moon_phase_fract</th>\n",
       "      <th>moon_phase_name</th>\n",
       "    </tr>\n",
       "  </thead>\n",
       "  <tbody>\n",
       "    <tr>\n",
       "      <th>count</th>\n",
       "      <td>5478</td>\n",
       "      <td>5478.000000</td>\n",
       "      <td>5478</td>\n",
       "    </tr>\n",
       "    <tr>\n",
       "      <th>unique</th>\n",
       "      <td>5478</td>\n",
       "      <td>NaN</td>\n",
       "      <td>8</td>\n",
       "    </tr>\n",
       "    <tr>\n",
       "      <th>top</th>\n",
       "      <td>2011-09-08</td>\n",
       "      <td>NaN</td>\n",
       "      <td>WAXING_CRESCENT</td>\n",
       "    </tr>\n",
       "    <tr>\n",
       "      <th>freq</th>\n",
       "      <td>1</td>\n",
       "      <td>NaN</td>\n",
       "      <td>1344</td>\n",
       "    </tr>\n",
       "    <tr>\n",
       "      <th>mean</th>\n",
       "      <td>NaN</td>\n",
       "      <td>0.500431</td>\n",
       "      <td>NaN</td>\n",
       "    </tr>\n",
       "    <tr>\n",
       "      <th>std</th>\n",
       "      <td>NaN</td>\n",
       "      <td>0.351311</td>\n",
       "      <td>NaN</td>\n",
       "    </tr>\n",
       "    <tr>\n",
       "      <th>min</th>\n",
       "      <td>NaN</td>\n",
       "      <td>0.000016</td>\n",
       "      <td>NaN</td>\n",
       "    </tr>\n",
       "    <tr>\n",
       "      <th>25%</th>\n",
       "      <td>NaN</td>\n",
       "      <td>0.151741</td>\n",
       "      <td>NaN</td>\n",
       "    </tr>\n",
       "    <tr>\n",
       "      <th>50%</th>\n",
       "      <td>NaN</td>\n",
       "      <td>0.502477</td>\n",
       "      <td>NaN</td>\n",
       "    </tr>\n",
       "    <tr>\n",
       "      <th>75%</th>\n",
       "      <td>NaN</td>\n",
       "      <td>0.850668</td>\n",
       "      <td>NaN</td>\n",
       "    </tr>\n",
       "    <tr>\n",
       "      <th>max</th>\n",
       "      <td>NaN</td>\n",
       "      <td>0.999994</td>\n",
       "      <td>NaN</td>\n",
       "    </tr>\n",
       "  </tbody>\n",
       "</table>\n",
       "</div>"
      ],
      "text/plain": [
       "              date  moon_phase_fract  moon_phase_name\n",
       "count         5478       5478.000000             5478\n",
       "unique        5478               NaN                8\n",
       "top     2011-09-08               NaN  WAXING_CRESCENT\n",
       "freq             1               NaN             1344\n",
       "mean           NaN          0.500431              NaN\n",
       "std            NaN          0.351311              NaN\n",
       "min            NaN          0.000016              NaN\n",
       "25%            NaN          0.151741              NaN\n",
       "50%            NaN          0.502477              NaN\n",
       "75%            NaN          0.850668              NaN\n",
       "max            NaN          0.999994              NaN"
      ]
     },
     "execution_count": 15,
     "metadata": {},
     "output_type": "execute_result"
    }
   ],
   "source": [
    "df_moon.describe(include='all')"
   ]
  },
  {
   "cell_type": "markdown",
   "metadata": {},
   "source": [
    "## 4 Export Results"
   ]
  },
  {
   "cell_type": "code",
   "execution_count": 16,
   "metadata": {},
   "outputs": [],
   "source": [
    "df_moon.to_csv('moon_cycles.csv')"
   ]
  },
  {
   "cell_type": "code",
   "execution_count": null,
   "metadata": {},
   "outputs": [],
   "source": []
  }
 ],
 "metadata": {
  "kernelspec": {
   "display_name": "Python 3",
   "language": "python",
   "name": "python3"
  },
  "language_info": {
   "codemirror_mode": {
    "name": "ipython",
    "version": 3
   },
   "file_extension": ".py",
   "mimetype": "text/x-python",
   "name": "python",
   "nbconvert_exporter": "python",
   "pygments_lexer": "ipython3",
   "version": "3.6.5"
  }
 },
 "nbformat": 4,
 "nbformat_minor": 2
}
