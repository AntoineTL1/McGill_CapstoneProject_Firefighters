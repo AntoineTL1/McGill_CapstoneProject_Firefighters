{
  "nbformat": 4,
  "nbformat_minor": 0,
  "metadata": {
    "colab": {
      "name": "YCBS-299 Demographics.ipynb",
      "provenance": [],
      "collapsed_sections": []
    },
    "kernelspec": {
      "name": "python3",
      "display_name": "Python 3"
    }
  },
  "cells": [
    {
      "cell_type": "code",
      "metadata": {
        "id": "jz8Ub4Kp_qI7",
        "colab_type": "code",
        "colab": {
          "base_uri": "https://localhost:8080/",
          "height": 450
        },
        "outputId": "38532fbc-83d7-4c01-c087-f579b647a299"
      },
      "source": [
        "!pip install geopandas"
      ],
      "execution_count": 1,
      "outputs": [
        {
          "output_type": "stream",
          "text": [
            "Collecting geopandas\n",
            "\u001b[?25l  Downloading https://files.pythonhosted.org/packages/f7/a4/e66aafbefcbb717813bf3a355c8c4fc3ed04ea1dd7feb2920f2f4f868921/geopandas-0.8.1-py2.py3-none-any.whl (962kB)\n",
            "\u001b[K     |████████████████████████████████| 972kB 8.3MB/s \n",
            "\u001b[?25hCollecting pyproj>=2.2.0\n",
            "\u001b[?25l  Downloading https://files.pythonhosted.org/packages/e5/c3/071e080230ac4b6c64f1a2e2f9161c9737a2bc7b683d2c90b024825000c0/pyproj-2.6.1.post1-cp36-cp36m-manylinux2010_x86_64.whl (10.9MB)\n",
            "\u001b[K     |████████████████████████████████| 10.9MB 17.3MB/s \n",
            "\u001b[?25hRequirement already satisfied: shapely in /usr/local/lib/python3.6/dist-packages (from geopandas) (1.7.0)\n",
            "Requirement already satisfied: pandas>=0.23.0 in /usr/local/lib/python3.6/dist-packages (from geopandas) (1.0.5)\n",
            "Collecting fiona\n",
            "\u001b[?25l  Downloading https://files.pythonhosted.org/packages/ec/20/4e63bc5c6e62df889297b382c3ccd4a7a488b00946aaaf81a118158c6f09/Fiona-1.8.13.post1-cp36-cp36m-manylinux1_x86_64.whl (14.7MB)\n",
            "\u001b[K     |████████████████████████████████| 14.7MB 322kB/s \n",
            "\u001b[?25hRequirement already satisfied: pytz>=2017.2 in /usr/local/lib/python3.6/dist-packages (from pandas>=0.23.0->geopandas) (2018.9)\n",
            "Requirement already satisfied: numpy>=1.13.3 in /usr/local/lib/python3.6/dist-packages (from pandas>=0.23.0->geopandas) (1.18.5)\n",
            "Requirement already satisfied: python-dateutil>=2.6.1 in /usr/local/lib/python3.6/dist-packages (from pandas>=0.23.0->geopandas) (2.8.1)\n",
            "Requirement already satisfied: attrs>=17 in /usr/local/lib/python3.6/dist-packages (from fiona->geopandas) (19.3.0)\n",
            "Collecting click-plugins>=1.0\n",
            "  Downloading https://files.pythonhosted.org/packages/e9/da/824b92d9942f4e472702488857914bdd50f73021efea15b4cad9aca8ecef/click_plugins-1.1.1-py2.py3-none-any.whl\n",
            "Collecting cligj>=0.5\n",
            "  Downloading https://files.pythonhosted.org/packages/e4/be/30a58b4b0733850280d01f8bd132591b4668ed5c7046761098d665ac2174/cligj-0.5.0-py3-none-any.whl\n",
            "Collecting munch\n",
            "  Downloading https://files.pythonhosted.org/packages/cc/ab/85d8da5c9a45e072301beb37ad7f833cd344e04c817d97e0cc75681d248f/munch-2.5.0-py2.py3-none-any.whl\n",
            "Requirement already satisfied: six>=1.7 in /usr/local/lib/python3.6/dist-packages (from fiona->geopandas) (1.15.0)\n",
            "Requirement already satisfied: click<8,>=4.0 in /usr/local/lib/python3.6/dist-packages (from fiona->geopandas) (7.1.2)\n",
            "Installing collected packages: pyproj, click-plugins, cligj, munch, fiona, geopandas\n",
            "Successfully installed click-plugins-1.1.1 cligj-0.5.0 fiona-1.8.13.post1 geopandas-0.8.1 munch-2.5.0 pyproj-2.6.1.post1\n"
          ],
          "name": "stdout"
        }
      ]
    },
    {
      "cell_type": "code",
      "metadata": {
        "id": "gMARzKRa5CXM",
        "colab_type": "code",
        "colab": {
          "base_uri": "https://localhost:8080/",
          "height": 52
        },
        "outputId": "0a2fb5c2-da38-43e2-ecf0-bfc0c9c39ddf"
      },
      "source": [
        "import io\n",
        "import os\n",
        "from google.colab import drive\n",
        "import pandas as pd\n",
        "import matplotlib.pyplot as plt\n",
        "import seaborn as sns\n",
        "import geopandas as gpd\n",
        "from shapely.geometry import Point, Polygon"
      ],
      "execution_count": 2,
      "outputs": [
        {
          "output_type": "stream",
          "text": [
            "/usr/local/lib/python3.6/dist-packages/statsmodels/tools/_testing.py:19: FutureWarning: pandas.util.testing is deprecated. Use the functions in the public API at pandas.testing instead.\n",
            "  import pandas.util.testing as tm\n"
          ],
          "name": "stderr"
        }
      ]
    },
    {
      "cell_type": "markdown",
      "metadata": {
        "id": "i4wLE-qYq5uT",
        "colab_type": "text"
      },
      "source": [
        "### 1) Connect to the Drive"
      ]
    },
    {
      "cell_type": "code",
      "metadata": {
        "id": "B9Ah7rEm5bYv",
        "colab_type": "code",
        "colab": {
          "base_uri": "https://localhost:8080/",
          "height": 124
        },
        "outputId": "8a10ba6a-346f-4a21-df00-cadbf5590ba9"
      },
      "source": [
        "drive.mount('/content/drive', force_remount=True)"
      ],
      "execution_count": 3,
      "outputs": [
        {
          "output_type": "stream",
          "text": [
            "Go to this URL in a browser: https://accounts.google.com/o/oauth2/auth?client_id=947318989803-6bn6qk8qdgf4n4g3pfee6491hc0brc4i.apps.googleusercontent.com&redirect_uri=urn%3aietf%3awg%3aoauth%3a2.0%3aoob&response_type=code&scope=email%20https%3a%2f%2fwww.googleapis.com%2fauth%2fdocs.test%20https%3a%2f%2fwww.googleapis.com%2fauth%2fdrive%20https%3a%2f%2fwww.googleapis.com%2fauth%2fdrive.photos.readonly%20https%3a%2f%2fwww.googleapis.com%2fauth%2fpeopleapi.readonly\n",
            "\n",
            "Enter your authorization code:\n",
            "··········\n",
            "Mounted at /content/drive\n"
          ],
          "name": "stdout"
        }
      ]
    },
    {
      "cell_type": "markdown",
      "metadata": {
        "id": "sP3hJg3R6OJG",
        "colab_type": "text"
      },
      "source": [
        "### 2) Download and save the 2016 Census at the 3 digit zip code level  [(2016 census CANSIM)](https://www12.statcan.gc.ca/census-recensement/2016/dp-pd/prof/details/download-telecharger/comp/GetFile.cfm?Lang=E&FILETYPE=CSV&GEONO=046)"
      ]
    },
    {
      "cell_type": "code",
      "metadata": {
        "id": "miwbkq98q3-3",
        "colab_type": "code",
        "colab": {
          "base_uri": "https://localhost:8080/",
          "height": 233
        },
        "outputId": "2a657f6b-135b-4e89-be5f-e09c41141e06"
      },
      "source": [
        "# List of variables that we want (age, income, total population)\n",
        "vars = [1,9,13,24,696,697,698,699,700,701,702,703,704,705] \n",
        "\n",
        "appended_data = []\n",
        "filename = '/content/drive/My Drive/Data/YCBS-299/98-401-X2016046_English_CSV_data.csv'\n",
        "chunksize=10000\n",
        "\n",
        "# We filter with \"H\" as a first letter of the zipcode to keep only codes for Montreal\n",
        "for chunk in pd.read_csv(filename, chunksize=chunksize):\n",
        "    filtered = chunk[chunk['GEO_CODE (POR)'].str.slice(stop=1)=='H']\n",
        "    filtered = filtered[filtered['Member ID: Profile of Forward Sortation Areas (2247)'].isin(vars)]\n",
        "    appended_data.append(filtered)\n",
        "    \n",
        "# See pd.concat documentation for more info\n",
        "cansim = pd.concat(appended_data)\n",
        "cansim = cansim[['GEO_CODE (POR)','DIM: Profile of Forward Sortation Areas (2247)','Dim: Sex (3): Member ID: [1]: Total - Sex']]\n",
        "cansim['DIM: Profile of Forward Sortation Areas (2247)'] = cansim['DIM: Profile of Forward Sortation Areas (2247)'].str.replace(\"$\",\"\", regex=True).replace(\",\",\"\", regex=True).replace(\" \",\"\", regex=True)\n",
        "cansim_wide = cansim.pivot(index='GEO_CODE (POR)', columns='DIM: Profile of Forward Sortation Areas (2247)', values='Dim: Sex (3): Member ID: [1]: Total - Sex')\n",
        "\n",
        "# Check data\n",
        "cansim_wide = cansim_wide.reset_index()\n",
        "cansim_wide.head(5)"
      ],
      "execution_count": 4,
      "outputs": [
        {
          "output_type": "execute_result",
          "data": {
            "text/html": [
              "<div>\n",
              "<style scoped>\n",
              "    .dataframe tbody tr th:only-of-type {\n",
              "        vertical-align: middle;\n",
              "    }\n",
              "\n",
              "    .dataframe tbody tr th {\n",
              "        vertical-align: top;\n",
              "    }\n",
              "\n",
              "    .dataframe thead th {\n",
              "        text-align: right;\n",
              "    }\n",
              "</style>\n",
              "<table border=\"1\" class=\"dataframe\">\n",
              "  <thead>\n",
              "    <tr style=\"text-align: right;\">\n",
              "      <th>DIM: Profile of Forward Sortation Areas (2247)</th>\n",
              "      <th>0to14years</th>\n",
              "      <th>100000andover</th>\n",
              "      <th>10000to19999</th>\n",
              "      <th>15to64years</th>\n",
              "      <th>20000to29999</th>\n",
              "      <th>30000to39999</th>\n",
              "      <th>40000to49999</th>\n",
              "      <th>50000to59999</th>\n",
              "      <th>60000to69999</th>\n",
              "      <th>65yearsandover</th>\n",
              "      <th>70000to79999</th>\n",
              "      <th>80000to89999</th>\n",
              "      <th>90000to99999</th>\n",
              "      <th>Population2016</th>\n",
              "    </tr>\n",
              "    <tr>\n",
              "      <th>GEO_CODE (POR)</th>\n",
              "      <th></th>\n",
              "      <th></th>\n",
              "      <th></th>\n",
              "      <th></th>\n",
              "      <th></th>\n",
              "      <th></th>\n",
              "      <th></th>\n",
              "      <th></th>\n",
              "      <th></th>\n",
              "      <th></th>\n",
              "      <th></th>\n",
              "      <th></th>\n",
              "      <th></th>\n",
              "      <th></th>\n",
              "    </tr>\n",
              "  </thead>\n",
              "  <tbody>\n",
              "    <tr>\n",
              "      <th>H0M</th>\n",
              "      <td>375</td>\n",
              "      <td>5</td>\n",
              "      <td>115</td>\n",
              "      <td>715</td>\n",
              "      <td>90</td>\n",
              "      <td>65</td>\n",
              "      <td>35</td>\n",
              "      <td>45</td>\n",
              "      <td>25</td>\n",
              "      <td>110</td>\n",
              "      <td>10</td>\n",
              "      <td>10</td>\n",
              "      <td>5</td>\n",
              "      <td>1202</td>\n",
              "    </tr>\n",
              "    <tr>\n",
              "      <th>H1A</th>\n",
              "      <td>4665</td>\n",
              "      <td>950</td>\n",
              "      <td>4320</td>\n",
              "      <td>21785</td>\n",
              "      <td>3775</td>\n",
              "      <td>3610</td>\n",
              "      <td>3470</td>\n",
              "      <td>2520</td>\n",
              "      <td>1635</td>\n",
              "      <td>6065</td>\n",
              "      <td>1240</td>\n",
              "      <td>700</td>\n",
              "      <td>460</td>\n",
              "      <td>32516</td>\n",
              "    </tr>\n",
              "    <tr>\n",
              "      <th>H1B</th>\n",
              "      <td>2945</td>\n",
              "      <td>330</td>\n",
              "      <td>3215</td>\n",
              "      <td>13530</td>\n",
              "      <td>2670</td>\n",
              "      <td>2500</td>\n",
              "      <td>2040</td>\n",
              "      <td>1465</td>\n",
              "      <td>890</td>\n",
              "      <td>3690</td>\n",
              "      <td>560</td>\n",
              "      <td>340</td>\n",
              "      <td>190</td>\n",
              "      <td>20160</td>\n",
              "    </tr>\n",
              "    <tr>\n",
              "      <th>H1C</th>\n",
              "      <td>2930</td>\n",
              "      <td>545</td>\n",
              "      <td>1655</td>\n",
              "      <td>10450</td>\n",
              "      <td>1350</td>\n",
              "      <td>1350</td>\n",
              "      <td>1360</td>\n",
              "      <td>1085</td>\n",
              "      <td>730</td>\n",
              "      <td>1300</td>\n",
              "      <td>555</td>\n",
              "      <td>330</td>\n",
              "      <td>240</td>\n",
              "      <td>14678</td>\n",
              "    </tr>\n",
              "    <tr>\n",
              "      <th>H1E</th>\n",
              "      <td>6775</td>\n",
              "      <td>1160</td>\n",
              "      <td>7055</td>\n",
              "      <td>27410</td>\n",
              "      <td>6035</td>\n",
              "      <td>4710</td>\n",
              "      <td>3885</td>\n",
              "      <td>2630</td>\n",
              "      <td>1690</td>\n",
              "      <td>8235</td>\n",
              "      <td>1180</td>\n",
              "      <td>730</td>\n",
              "      <td>475</td>\n",
              "      <td>42420</td>\n",
              "    </tr>\n",
              "  </tbody>\n",
              "</table>\n",
              "</div>"
            ],
            "text/plain": [
              "DIM: Profile of Forward Sortation Areas (2247) 0to14years  ... Population2016\n",
              "GEO_CODE (POR)                                             ...               \n",
              "H0M                                                   375  ...           1202\n",
              "H1A                                                  4665  ...          32516\n",
              "H1B                                                  2945  ...          20160\n",
              "H1C                                                  2930  ...          14678\n",
              "H1E                                                  6775  ...          42420\n",
              "\n",
              "[5 rows x 14 columns]"
            ]
          },
          "metadata": {
            "tags": []
          },
          "execution_count": 4
        }
      ]
    },
    {
      "cell_type": "markdown",
      "metadata": {
        "id": "yrBHckoMWDDy",
        "colab_type": "text"
      },
      "source": [
        "### 3) Download and save the boundary file for 2016 Census  [(Forward Sortation Area)](https://www12.statcan.gc.ca/census-recensement/alternative_alternatif.cfm?l=eng&dispext=zip&teng=lfsa000b16a_e.zip&k=%20%20%20%2044221&loc=http://www12.statcan.gc.ca/census-recensement/2011/geo/bound-limit/files-fichiers/2016/lfsa000b16a_e.zip)"
      ]
    },
    {
      "cell_type": "code",
      "metadata": {
        "id": "o0hbU13SeqTR",
        "colab_type": "code",
        "colab": {}
      },
      "source": [
        "# Read shape file\n",
        "gdf = gpd.read_file('/content/drive/My Drive/Data/YCBS-299/lfsa000b16a_e.shp')"
      ],
      "execution_count": 7,
      "outputs": []
    },
    {
      "cell_type": "code",
      "metadata": {
        "id": "kmn7oQ9M5Q-m",
        "colab_type": "code",
        "colab": {}
      },
      "source": [
        "# Let's take a copy of our layer\n",
        "data_proj = gdf.copy()\n",
        "\n",
        "# Reproject the geometries by replacing the values with projected ones (we want long-lat and the original file was in Lambert)\n",
        "data_proj = data_proj.to_crs(epsg=4326)"
      ],
      "execution_count": 8,
      "outputs": []
    },
    {
      "cell_type": "code",
      "metadata": {
        "id": "-KpT80-68yVl",
        "colab_type": "code",
        "colab": {
          "base_uri": "https://localhost:8080/",
          "height": 121
        },
        "outputId": "1b78c38f-8f32-427f-feb2-640d34b1127f"
      },
      "source": [
        "# Create point in the middle of the centroid\n",
        "demo_long_lat = data_proj.copy()\n",
        "demo_long_lat['Longitude'] = data_proj.geometry.centroid.x\n",
        "demo_long_lat['Latitude']  = data_proj.geometry.centroid.y"
      ],
      "execution_count": 9,
      "outputs": [
        {
          "output_type": "stream",
          "text": [
            "/usr/local/lib/python3.6/dist-packages/ipykernel_launcher.py:3: UserWarning: Geometry is in a geographic CRS. Results from 'centroid' are likely incorrect. Use 'GeoSeries.to_crs()' to re-project geometries to a projected CRS before this operation.\n",
            "\n",
            "  This is separate from the ipykernel package so we can avoid doing imports until\n",
            "/usr/local/lib/python3.6/dist-packages/ipykernel_launcher.py:4: UserWarning: Geometry is in a geographic CRS. Results from 'centroid' are likely incorrect. Use 'GeoSeries.to_crs()' to re-project geometries to a projected CRS before this operation.\n",
            "\n",
            "  after removing the cwd from sys.path.\n"
          ],
          "name": "stderr"
        }
      ]
    },
    {
      "cell_type": "code",
      "metadata": {
        "id": "9kQ8Xh0mf6tS",
        "colab_type": "code",
        "colab": {
          "base_uri": "https://localhost:8080/",
          "height": 202
        },
        "outputId": "63b33658-a9f5-4772-d092-a2d0d5873085"
      },
      "source": [
        "# Merge demo info with coordinates\n",
        "census_regions = pd.merge(cansim_wide, demo_long_lat,  how='left', left_on=['GEO_CODE (POR)'], right_on = ['CFSAUID'])\n",
        "census_regions = census_regions.drop(['CFSAUID', 'PRUID', 'PRNAME', 'Longitude', 'Latitude'], axis=1)\n",
        "census_regions.rename({'GEO_CODE (POR)': 'GEO3_Code', '0to14years':'age_0_14', '100000andover':'Income_100k', '10000to19999':'Income_10k',\n",
        "                       '15to64years':'age_15_64', '20000to29999':'Income_20k', '30000to39999':'Income_30k', '40000to49999':'Income_40k',\n",
        "                       '50000to59999':'Income_50k', '60000to69999':'Income_60k', '65yearsandover':'age_65', '70000to79999':'Income_70k',\n",
        "                       '80000to89999':'Income_80k', '90000to99999':'Income_90k', 'Population2016':'Population2016', 'geometry':'Geometry'})"
      ],
      "execution_count": 33,
      "outputs": [
        {
          "output_type": "execute_result",
          "data": {
            "text/html": [
              "<div>\n",
              "<style scoped>\n",
              "    .dataframe tbody tr th:only-of-type {\n",
              "        vertical-align: middle;\n",
              "    }\n",
              "\n",
              "    .dataframe tbody tr th {\n",
              "        vertical-align: top;\n",
              "    }\n",
              "\n",
              "    .dataframe thead th {\n",
              "        text-align: right;\n",
              "    }\n",
              "</style>\n",
              "<table border=\"1\" class=\"dataframe\">\n",
              "  <thead>\n",
              "    <tr style=\"text-align: right;\">\n",
              "      <th></th>\n",
              "      <th>GEO_CODE (POR)</th>\n",
              "      <th>0to14years</th>\n",
              "      <th>100000andover</th>\n",
              "      <th>10000to19999</th>\n",
              "      <th>15to64years</th>\n",
              "      <th>20000to29999</th>\n",
              "      <th>30000to39999</th>\n",
              "      <th>40000to49999</th>\n",
              "      <th>50000to59999</th>\n",
              "      <th>60000to69999</th>\n",
              "      <th>65yearsandover</th>\n",
              "      <th>70000to79999</th>\n",
              "      <th>80000to89999</th>\n",
              "      <th>90000to99999</th>\n",
              "      <th>Population2016</th>\n",
              "      <th>geometry</th>\n",
              "    </tr>\n",
              "  </thead>\n",
              "  <tbody>\n",
              "    <tr>\n",
              "      <th>0</th>\n",
              "      <td>H0M</td>\n",
              "      <td>375</td>\n",
              "      <td>5</td>\n",
              "      <td>115</td>\n",
              "      <td>715</td>\n",
              "      <td>90</td>\n",
              "      <td>65</td>\n",
              "      <td>35</td>\n",
              "      <td>45</td>\n",
              "      <td>25</td>\n",
              "      <td>110</td>\n",
              "      <td>10</td>\n",
              "      <td>10</td>\n",
              "      <td>5</td>\n",
              "      <td>1202</td>\n",
              "      <td>MULTIPOLYGON (((-74.51960 45.03463, -74.51939 ...</td>\n",
              "    </tr>\n",
              "    <tr>\n",
              "      <th>1</th>\n",
              "      <td>H1A</td>\n",
              "      <td>4665</td>\n",
              "      <td>950</td>\n",
              "      <td>4320</td>\n",
              "      <td>21785</td>\n",
              "      <td>3775</td>\n",
              "      <td>3610</td>\n",
              "      <td>3470</td>\n",
              "      <td>2520</td>\n",
              "      <td>1635</td>\n",
              "      <td>6065</td>\n",
              "      <td>1240</td>\n",
              "      <td>700</td>\n",
              "      <td>460</td>\n",
              "      <td>32516</td>\n",
              "      <td>MULTIPOLYGON (((-73.47668 45.70214, -73.47722 ...</td>\n",
              "    </tr>\n",
              "    <tr>\n",
              "      <th>2</th>\n",
              "      <td>H1B</td>\n",
              "      <td>2945</td>\n",
              "      <td>330</td>\n",
              "      <td>3215</td>\n",
              "      <td>13530</td>\n",
              "      <td>2670</td>\n",
              "      <td>2500</td>\n",
              "      <td>2040</td>\n",
              "      <td>1465</td>\n",
              "      <td>890</td>\n",
              "      <td>3690</td>\n",
              "      <td>560</td>\n",
              "      <td>340</td>\n",
              "      <td>190</td>\n",
              "      <td>20160</td>\n",
              "      <td>POLYGON ((-73.50219 45.65192, -73.50231 45.651...</td>\n",
              "    </tr>\n",
              "    <tr>\n",
              "      <th>3</th>\n",
              "      <td>H1C</td>\n",
              "      <td>2930</td>\n",
              "      <td>545</td>\n",
              "      <td>1655</td>\n",
              "      <td>10450</td>\n",
              "      <td>1350</td>\n",
              "      <td>1350</td>\n",
              "      <td>1360</td>\n",
              "      <td>1085</td>\n",
              "      <td>730</td>\n",
              "      <td>1300</td>\n",
              "      <td>555</td>\n",
              "      <td>330</td>\n",
              "      <td>240</td>\n",
              "      <td>14678</td>\n",
              "      <td>POLYGON ((-73.50900 45.69807, -73.50900 45.698...</td>\n",
              "    </tr>\n",
              "    <tr>\n",
              "      <th>4</th>\n",
              "      <td>H1E</td>\n",
              "      <td>6775</td>\n",
              "      <td>1160</td>\n",
              "      <td>7055</td>\n",
              "      <td>27410</td>\n",
              "      <td>6035</td>\n",
              "      <td>4710</td>\n",
              "      <td>3885</td>\n",
              "      <td>2630</td>\n",
              "      <td>1690</td>\n",
              "      <td>8235</td>\n",
              "      <td>1180</td>\n",
              "      <td>730</td>\n",
              "      <td>475</td>\n",
              "      <td>42420</td>\n",
              "      <td>MULTIPOLYGON (((-73.57704 45.62832, -73.57717 ...</td>\n",
              "    </tr>\n",
              "  </tbody>\n",
              "</table>\n",
              "</div>"
            ],
            "text/plain": [
              "  GEO_CODE (POR)  ...                                           geometry\n",
              "0            H0M  ...  MULTIPOLYGON (((-74.51960 45.03463, -74.51939 ...\n",
              "1            H1A  ...  MULTIPOLYGON (((-73.47668 45.70214, -73.47722 ...\n",
              "2            H1B  ...  POLYGON ((-73.50219 45.65192, -73.50231 45.651...\n",
              "3            H1C  ...  POLYGON ((-73.50900 45.69807, -73.50900 45.698...\n",
              "4            H1E  ...  MULTIPOLYGON (((-73.57704 45.62832, -73.57717 ...\n",
              "\n",
              "[5 rows x 16 columns]"
            ]
          },
          "metadata": {
            "tags": []
          },
          "execution_count": 33
        }
      ]
    },
    {
      "cell_type": "markdown",
      "metadata": {
        "id": "d3_0L_TWWk-z",
        "colab_type": "text"
      },
      "source": [
        "### 4) Save to csv. The rest is done in Alteryx"
      ]
    },
    {
      "cell_type": "code",
      "metadata": {
        "colab_type": "code",
        "id": "boWzoywkCOIx",
        "colab": {}
      },
      "source": [
        "census_regions.to_csv('/content/drive/My Drive/Data/YCBS-299/demographics_code.csv', index=False)"
      ],
      "execution_count": 34,
      "outputs": []
    }
  ]
}