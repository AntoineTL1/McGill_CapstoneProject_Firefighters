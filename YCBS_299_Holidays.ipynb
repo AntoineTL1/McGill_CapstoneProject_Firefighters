{
  "nbformat": 4,
  "nbformat_minor": 0,
  "metadata": {
    "colab": {
      "name": "YCBS-299 Holidays.ipynb",
      "provenance": [],
      "collapsed_sections": []
    },
    "kernelspec": {
      "name": "python3",
      "display_name": "Python 3"
    }
  },
  "cells": [
    {
      "cell_type": "code",
      "metadata": {
        "id": "2D0HDFkILd9z",
        "colab_type": "code",
        "colab": {}
      },
      "source": [
        "import holidays\n",
        "import pandas as pd\n",
        "from google.colab import drive"
      ],
      "execution_count": 1,
      "outputs": []
    },
    {
      "cell_type": "markdown",
      "metadata": {
        "id": "KFhjAXeNowa7",
        "colab_type": "text"
      },
      "source": [
        "#### 1) Connect to drive"
      ]
    },
    {
      "cell_type": "code",
      "metadata": {
        "id": "MaR0cyxDS4rg",
        "colab_type": "code",
        "colab": {
          "base_uri": "https://localhost:8080/",
          "height": 124
        },
        "outputId": "4efff6d4-9dea-461f-8d9d-1540ac45d96b"
      },
      "source": [
        "drive.mount('/content/drive', force_remount=True)"
      ],
      "execution_count": 2,
      "outputs": [
        {
          "output_type": "stream",
          "text": [
            "Go to this URL in a browser: https://accounts.google.com/o/oauth2/auth?client_id=947318989803-6bn6qk8qdgf4n4g3pfee6491hc0brc4i.apps.googleusercontent.com&redirect_uri=urn%3aietf%3awg%3aoauth%3a2.0%3aoob&response_type=code&scope=email%20https%3a%2f%2fwww.googleapis.com%2fauth%2fdocs.test%20https%3a%2f%2fwww.googleapis.com%2fauth%2fdrive%20https%3a%2f%2fwww.googleapis.com%2fauth%2fdrive.photos.readonly%20https%3a%2f%2fwww.googleapis.com%2fauth%2fpeopleapi.readonly\n",
            "\n",
            "Enter your authorization code:\n",
            "··········\n",
            "Mounted at /content/drive\n"
          ],
          "name": "stdout"
        }
      ]
    },
    {
      "cell_type": "markdown",
      "metadata": {
        "id": "bss_FP6ipDZi",
        "colab_type": "text"
      },
      "source": [
        "#### 2) Get Holidays in Canada-Quebec"
      ]
    },
    {
      "cell_type": "code",
      "metadata": {
        "id": "u2fL5rIDLemY",
        "colab_type": "code",
        "colab": {}
      },
      "source": [
        "hDays = holidays.Canada(prov='QC')['2014-01-01': '2019-12-31']\n",
        "df = pd.DataFrame(hDays).rename({0:'Date'}, axis=1)\n",
        "df['Holiday'] = 1"
      ],
      "execution_count": 3,
      "outputs": []
    },
    {
      "cell_type": "markdown",
      "metadata": {
        "id": "VBOk4VmnpAs_",
        "colab_type": "text"
      },
      "source": [
        "#### 3) Print to CSV on drive"
      ]
    },
    {
      "cell_type": "code",
      "metadata": {
        "id": "AdW1FcMapBDo",
        "colab_type": "code",
        "colab": {}
      },
      "source": [
        "df.to_csv('/content/drive/My Drive/Data/YCBS-299/Holiday_2015_2019.csv')"
      ],
      "execution_count": 4,
      "outputs": []
    }
  ]
}